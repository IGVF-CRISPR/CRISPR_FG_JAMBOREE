{
  "cells": [
    {
      "cell_type": "markdown",
      "id": "5700ab53-5994-4055-a583-0015e1b6e7f7",
      "metadata": {
        "id": "5700ab53-5994-4055-a583-0015e1b6e7f7"
      },
      "source": [
        "# Task 2\n",
        "## Adoption of Mudata to store multimodal data and metadata through Perturb-tools\n",
        "\n",
        "__|use this jupyter in your home directory|__\n",
        "\n",
        "## Relevance:\n",
        "To analyze Perturb-seq experiments is necessary to be able to handle multiple tables with different data and metadata.  \n",
        "MuData data is a format that allows having all these tables (Guide counts, Transcripts counts, Hashing/multiseq and Metadata)   \n",
        "in the same data entity and share between different languages:  Python  (https://mudata.readthedocs.io) and R (https://www.bioconductor.org/packages/release/bioc/html/MuData.html).  \n",
        "Additionally we can provide this MuData  to scripts generating pipeline reports to downstream tasks such as differential Perturbation quantification.\n",
        "\n",
        "## Practical description: TODO\n",
        "- [ ] What functionality do we want for the unified data structure?\n",
        "- [ ] Add  *cis* element selection for a guide, or vice versa. Given a guide select the closest genes ex: 1MB upstream and downstream\n",
        "- [X] Extract info related to a guide from the MuData object. ex: Given a guide x,  can we extract that guide presence for all cells, extract the counts for each gene being tested  for that guide?\n",
        "- [X] How to handle negative, positive, controls? Can we subset the MuData object to have only the guides of interest for a given category? How to inject this information in the MuData object?\n",
        "- [ ] Visualization/object string representation? \n",
        "- [ ] Extract each modality for standard scRNA-seq/guide analyses?\n",
        "\n",
        "## Important links:\n",
        "Example of class to handle scPERTURB-seq data proposing new operations :\n",
        "https://colab.research.google.com/drive/1g8oeUkGWOolGc0MeXQ8CseBHwqXHbVPk#scrollTo=iHm0DR23kv4V"
      ]
    },
    {
      "cell_type": "code",
      "execution_count": null,
      "id": "0f83929b-4e02-4d0c-8e61-6178ac088c8a",
      "metadata": {
        "tags": [],
        "id": "0f83929b-4e02-4d0c-8e61-6178ac088c8a",
        "outputId": "d946a083-4b79-424d-b736-57e7e825f68f"
      },
      "outputs": [
        {
          "name": "stdout",
          "output_type": "stream",
          "text": [
            "/mnt/shared/gasperini_test_01/93/bc121425eff99125ff0ca316ceb0e7/raw_mudata_guide_and_transcripts.h5mu\n",
            "/mnt/shared/gasperini_test_01/58/17b340883b2930787a95d103627184/raw_mudata_guide_and_transcripts.h5mu\n",
            "/mnt/shared/gasperini_test_01/6c/fccd5ca9e34c8034064586053cca0c/raw_mudata_guide_and_transcripts.h5mu\n",
            "/mnt/shared/gasperini_test_01/3d/400711732bb7fead7f4a800d77456f/raw_mudata_guide_and_transcripts.h5mu\n"
          ]
        }
      ],
      "source": [
        "!find  /mnt/shared/gasperini_test_01  | grep raw_mudata"
      ]
    },
    {
      "cell_type": "code",
      "execution_count": null,
      "id": "f0fa16d6-40d0-4194-9120-f576f14c778a",
      "metadata": {
        "tags": [],
        "id": "f0fa16d6-40d0-4194-9120-f576f14c778a",
        "outputId": "0bb596e4-4b17-41e2-db50-1c32c7477dc1"
      },
      "outputs": [
        {
          "name": "stdout",
          "output_type": "stream",
          "text": [
            "/home/jovyan\n"
          ]
        }
      ],
      "source": [
        "!pwd"
      ]
    },
    {
      "cell_type": "code",
      "execution_count": null,
      "id": "f63623a3-3557-45d4-a4a0-f9c947d9b2ad",
      "metadata": {
        "tags": [],
        "id": "f63623a3-3557-45d4-a4a0-f9c947d9b2ad",
        "outputId": "3756b385-885b-4d20-b52b-57485b2ed9ad"
      },
      "outputs": [
        {
          "name": "stdout",
          "output_type": "stream",
          "text": [
            "Overwriting mu_mod_workflow_test.nf\n"
          ]
        }
      ],
      "source": [
        "%%writefile mu_mod_workflow_test.nf\n",
        "params.MUDATA_INPUT = '/mnt/shared/gasperini_test_01/93/bc121425eff99125ff0ca316ceb0e7/raw_mudata_guide_and_transcripts.h5mu'  \n",
        "\n",
        "process mudata_mod {\n",
        "    debug true\n",
        "    input:\n",
        "    path mudata    \n",
        "    script:\n",
        "    \"\"\"\n",
        "    chmod 700 /home/jovyan/my_mu_mod.py\n",
        "    /home/jovyan/my_mu_mod.py ${mudata}\n",
        "    \"\"\"\n",
        "    \n",
        "}\n",
        "\n",
        "workflow {\n",
        "    \n",
        "    mudata_mod_ou = mudata_mod(params.MUDATA_INPUT)\n",
        "\n",
        "\n",
        "}"
      ]
    },
    {
      "cell_type": "code",
      "execution_count": null,
      "id": "f694abfe-0d7a-4d1b-aea2-b36a1fda312e",
      "metadata": {
        "tags": [],
        "id": "f694abfe-0d7a-4d1b-aea2-b36a1fda312e",
        "outputId": "847fac11-2909-468c-9c42-a67f1633d7f6"
      },
      "outputs": [
        {
          "name": "stdout",
          "output_type": "stream",
          "text": [
            "/home/jovyan\n"
          ]
        }
      ],
      "source": [
        "!pwd"
      ]
    },
    {
      "cell_type": "code",
      "execution_count": null,
      "id": "7ee09b30-703c-45f0-b2ab-55798227d551",
      "metadata": {
        "tags": [],
        "id": "7ee09b30-703c-45f0-b2ab-55798227d551",
        "outputId": "0018d72f-20f8-4c35-d481-a63e87730de5"
      },
      "outputs": [
        {
          "name": "stdout",
          "output_type": "stream",
          "text": [
            "Overwriting my_mu_mod.py\n"
          ]
        }
      ],
      "source": [
        "%%writefile my_mu_mod.py\n",
        "#!/usr/bin/env python\n",
        "\n",
        "import sys\n",
        "import mudata as md\n",
        "print ('-----')\n",
        "print (sys.argv[1])\n",
        "\n",
        "mudata = md.read(sys.argv[1])\n",
        "\n",
        "\n",
        "\n",
        "print(mudata['guides'])\n",
        "print(mudata['scRNA'])\n",
        "\n",
        "#create a class that can addhandle scPERTURB-SEQ mudata (gudie - scRNA)"
      ]
    },
    {
      "cell_type": "code",
      "execution_count": null,
      "id": "936c5c78-6540-4874-86ac-75d896a782db",
      "metadata": {
        "tags": [],
        "id": "936c5c78-6540-4874-86ac-75d896a782db",
        "outputId": "ebe40f8d-e6f5-47b0-e837-f19c242e865a"
      },
      "outputs": [
        {
          "name": "stdout",
          "output_type": "stream",
          "text": [
            "N E X T F L O W  ~  version 22.10.6\n",
            "Launching `mu_mod_workflow_test.nf` [desperate_einstein] DSL2 - revision: 675300b63d\n",
            "[-        ] process > mudata_mod -\u001b[K\n",
            "\u001b[2A\n",
            "executor >  local (1)\u001b[K\n",
            "[32/876550] process > mudata_mod [  0%] 0 of 1\u001b[K\n",
            "\u001b[3A\n",
            "executor >  local (1)\u001b[K\n",
            "[32/876550] process > mudata_mod [100%] 1 of 1 ✔\u001b[K\n",
            "-----\u001b[K\n",
            "raw_mudata_guide_and_transcripts.h5mu\u001b[K\n",
            "AnnData object with n_obs × n_vars = 5109 × 98\u001b[K\n",
            "    obs: 'number_of_nonzero_guides', 'batch_number'\u001b[K\n",
            "    var: 'feature_name', 'guide_chr', 'guide_end', 'guide_start', 'guide_number', 'target_elements'\u001b[K\n",
            "AnnData object with n_obs × n_vars = 5109 × 16094\u001b[K\n",
            "    obs: 'n_genes', 'n_counts', 'percent_mito', 'doublet_scores', 'predicted_doublets', 'doublet_info', 'batch_number'\u001b[K\n",
            "    var: 'feature_name', 'n_cells', 'transcript_chr', 'transcript_start', 'transcript_end'\u001b[K\n",
            "\u001b[K\n",
            "\n"
          ]
        }
      ],
      "source": [
        "!nextflow run mu_mod_workflow_test.nf -w testing_mu_mod_workflow_test"
      ]
    },
    {
      "cell_type": "code",
      "source": [],
      "metadata": {
        "id": "OqY3lZiEj5Eo"
      },
      "id": "OqY3lZiEj5Eo",
      "execution_count": null,
      "outputs": []
    },
    {
      "cell_type": "markdown",
      "source": [
        "# Sandbox"
      ],
      "metadata": {
        "id": "jLlzwM44j6jT"
      },
      "id": "jLlzwM44j6jT"
    },
    {
      "cell_type": "code",
      "execution_count": null,
      "id": "5e696ff9-dada-47f9-8777-71616c97bb7a",
      "metadata": {
        "id": "5e696ff9-dada-47f9-8777-71616c97bb7a"
      },
      "outputs": [],
      "source": [
        "import mudata as md"
      ]
    },
    {
      "cell_type": "code",
      "source": [
        "mdata = md.read_h5mu(\"/mnt/shared/gasperini_test_01/93/bc121425eff99125ff0ca316ceb0e7/raw_mudata_guide_and_transcripts.h5mu\")"
      ],
      "metadata": {
        "id": "2Vr0VJRZkIOk"
      },
      "id": "2Vr0VJRZkIOk",
      "execution_count": null,
      "outputs": []
    },
    {
      "cell_type": "code",
      "source": [
        "mdata"
      ],
      "metadata": {
        "id": "vnkXShY9kJMN"
      },
      "id": "vnkXShY9kJMN",
      "execution_count": null,
      "outputs": []
    },
    {
      "cell_type": "code",
      "source": [
        "mdata.var"
      ],
      "metadata": {
        "id": "t3s6W_yikJ4Y"
      },
      "id": "t3s6W_yikJ4Y",
      "execution_count": null,
      "outputs": []
    },
    {
      "cell_type": "code",
      "source": [
        "mdata.var[\"guides:target_elements\"].value_counts()"
      ],
      "metadata": {
        "id": "DOw-LAQpkLBJ"
      },
      "id": "DOw-LAQpkLBJ",
      "execution_count": null,
      "outputs": []
    },
    {
      "cell_type": "code",
      "source": [],
      "metadata": {
        "id": "unVXA7jgkMAb"
      },
      "id": "unVXA7jgkMAb",
      "execution_count": null,
      "outputs": []
    },
    {
      "cell_type": "code",
      "source": [
        "# subsetting\n",
        "mdata[:,mdata.var[\"guides:target_elements\"] == \"BROX\"]"
      ],
      "metadata": {
        "id": "m6pitQsgkOKQ"
      },
      "id": "m6pitQsgkOKQ",
      "execution_count": null,
      "outputs": []
    },
    {
      "cell_type": "code",
      "source": [
        "# encode gene-guide relationships\n"
      ],
      "metadata": {
        "id": "8fbQwp7VkQmY"
      },
      "id": "8fbQwp7VkQmY",
      "execution_count": null,
      "outputs": []
    }
  ],
  "metadata": {
    "kernelspec": {
      "display_name": "Python 3 (ipykernel)",
      "language": "python",
      "name": "python3"
    },
    "language_info": {
      "codemirror_mode": {
        "name": "ipython",
        "version": 3
      },
      "file_extension": ".py",
      "mimetype": "text/x-python",
      "name": "python",
      "nbconvert_exporter": "python",
      "pygments_lexer": "ipython3",
      "version": "3.10.10"
    },
    "colab": {
      "provenance": []
    }
  },
  "nbformat": 4,
  "nbformat_minor": 5
}