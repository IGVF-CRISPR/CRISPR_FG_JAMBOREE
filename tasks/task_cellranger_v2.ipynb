{
 "cells": [
  {
   "cell_type": "markdown",
   "id": "9d6040ed-7a02-478b-991e-b34c8e42939b",
   "metadata": {},
   "source": [
    "# Implementing CellRanger"
   ]
  },
  {
   "cell_type": "markdown",
   "id": "34da5c88-4cfd-4ffe-923e-82339d10bd82",
   "metadata": {},
   "source": [
    "## Relevance:\n",
    "\n",
    "Cellranger has a number of advantages over other tools for single-cell RNA-seq analysis to analize 10x Genomics data.   \n",
    "It can automatically detect cells, guides and barcodes, and it can also automatically detect the read format.  \n",
    "The matrix ouput can be transformed in a mudata object, which can be used for further analysis.\n",
    "\n",
    "## Practical description:\n",
    "- [x] Create a cell ranger nextflow process.\n",
    "- [ ] Capture the inputs for guides and scRNA-seq and pre-format to be analyzed by cell ranger. If needed, create a special subdirs to move the data.\n",
    "- [ ] Create the feature_ref.csv using the guides.xls information\n",
    "- [ ] Return the mtx data.\n",
    "\n",
    "\n",
    "This is a example of cellranger being used to process guides and rna-seq data. \n",
    "The file library.csv and feature_ref.csv\n",
    "\n",
    "```bash \n",
    " cellranger count --id=gasperini_01\n",
    "--libraries=library.csv\n",
    "--transcriptome=/opt/refdata-gex-GRCh38-2020-A\n",
    "--feature-ref=feature_ref.csv \n",
    "```\n",
    "The files library.csv and feature_ref.csv should be created automaticaly\n",
    "\n",
    "\n",
    "obs:  \n",
    "- Limit your ram case running cellranger (10G)\n",
    "- For this jamboree we will assume that we will receive a single sample that is separated with in several files. Each small files contains read1 and read2. If it is needed these files can be merged in a single R1 and a single R2 file before use it in the cell ranger process.\n",
    "- https://support.10xgenomics.com/single-cell-gene-expression/software/pipelines/latest/using/feature-bc-analysis \n"
   ]
  },
  {
   "cell_type": "markdown",
   "id": "df5ee915-835d-43a5-a110-42b2044d1ade",
   "metadata": {
    "tags": []
   },
   "source": [
    "# Downloading reference and Cellranger (~ 6 minutes)"
   ]
  },
  {
   "cell_type": "code",
   "execution_count": 1,
   "id": "cb5d1854-e4e0-4bae-a7dd-99f4cd2ea099",
   "metadata": {
    "tags": []
   },
   "outputs": [
    {
     "name": "stdout",
     "output_type": "stream",
     "text": [
      "--2023-04-03 14:51:09--  https://cf.10xgenomics.com/releases/cell-exp/cellranger-7.1.0.tar.gz?Expires=1680506161&Policy=eyJTdGF0ZW1lbnQiOlt7IlJlc291cmNlIjoiaHR0cHM6Ly9jZi4xMHhnZW5vbWljcy5jb20vcmVsZWFzZXMvY2VsbC1leHAvY2VsbHJhbmdlci03LjEuMC50YXIuZ3oiLCJDb25kaXRpb24iOnsiRGF0ZUxlc3NUaGFuIjp7IkFXUzpFcG9jaFRpbWUiOjE2ODA1MDYxNjF9fX1dfQ__&Signature=Wl9R1wkyTquf24HwsdxIWlXm2d9FsXSNmuhs7XXYQTl1qkwkobt2fBN3jMr~LPQQBrVIWPAgCvqmLVdrq-moQgoUa9p5Kc77btjk-EopvYTa3zvNTPnOJ9sc2IGQejhFgDYtLSwr210hfqdkVc7WIwM4yCe~oQSyWSad~vibjS-y8Kvfn0~jlLxIDMkFXL9Nhq9cgLV9tkI3HcamWfTkTuSRYgr~U6AlBcWAAiJa7OVJTJLNWJtIDqvaMEdTT1yM7DLfoooRmBeMi2nS~k5a-pBhOAyxWN2i5gwyzKIwuWDQvon0WwT-8XpHLgM1OO7aXWYtBA88f06eZNJF4rJN3g__&Key-Pair-Id=APKAI7S6A5RYOXBWRPDA\n",
      "Resolving cf.10xgenomics.com (cf.10xgenomics.com)... 104.18.1.173, 104.18.0.173, 2606:4700::6812:ad, ...\n",
      "Connecting to cf.10xgenomics.com (cf.10xgenomics.com)|104.18.1.173|:443... connected.\n",
      "HTTP request sent, awaiting response... 403 Forbidden\n",
      "2023-04-03 14:51:09 ERROR 403: Forbidden.\n",
      "\n",
      "\n",
      "gzip: stdin: unexpected end of file\n",
      "tar: Child returned status 1\n",
      "tar: Error is not recoverable: exiting now\n"
     ]
    }
   ],
   "source": [
    "#Downloading cell ranger ~3 minutes\n",
    "# this red link will not work on your enviroment. Go to 10x webpage to receive your own download link and change the current one\n",
    "!wget -O cellranger-7.1.0.tar.gz \"https://cf.10xgenomics.com/releases/cell-exp/cellranger-7.1.0.tar.gz?Expires=1680506161&Policy=eyJTdGF0ZW1lbnQiOlt7IlJlc291cmNlIjoiaHR0cHM6Ly9jZi4xMHhnZW5vbWljcy5jb20vcmVsZWFzZXMvY2VsbC1leHAvY2VsbHJhbmdlci03LjEuMC50YXIuZ3oiLCJDb25kaXRpb24iOnsiRGF0ZUxlc3NUaGFuIjp7IkFXUzpFcG9jaFRpbWUiOjE2ODA1MDYxNjF9fX1dfQ__&Signature=Wl9R1wkyTquf24HwsdxIWlXm2d9FsXSNmuhs7XXYQTl1qkwkobt2fBN3jMr~LPQQBrVIWPAgCvqmLVdrq-moQgoUa9p5Kc77btjk-EopvYTa3zvNTPnOJ9sc2IGQejhFgDYtLSwr210hfqdkVc7WIwM4yCe~oQSyWSad~vibjS-y8Kvfn0~jlLxIDMkFXL9Nhq9cgLV9tkI3HcamWfTkTuSRYgr~U6AlBcWAAiJa7OVJTJLNWJtIDqvaMEdTT1yM7DLfoooRmBeMi2nS~k5a-pBhOAyxWN2i5gwyzKIwuWDQvon0WwT-8XpHLgM1OO7aXWYtBA88f06eZNJF4rJN3g__&Key-Pair-Id=APKAI7S6A5RYOXBWRPDA\"\n",
    "!tar -xzvf cellranger-7.1.0.tar.gz\n"
   ]
  },
  {
   "cell_type": "code",
   "execution_count": 2,
   "id": "059ed853-8c5e-4c11-b981-866e2f0c55fb",
   "metadata": {
    "tags": []
   },
   "outputs": [
    {
     "name": "stdout",
     "output_type": "stream",
     "text": [
      "  % Total    % Received % Xferd  Average Speed   Time    Time     Time  Current\n",
      "                                 Dload  Upload   Total   Spent    Left  Speed\n",
      "100 10.6G  100 10.6G    0     0   147M      0  0:01:13  0:01:13 --:--:--  136M31  0:00:02  0:01:29  119M\n",
      "refdata-gex-GRCh38-2020-A/\n",
      "refdata-gex-GRCh38-2020-A/pickle/\n",
      "refdata-gex-GRCh38-2020-A/pickle/genes.pickle\n",
      "refdata-gex-GRCh38-2020-A/fasta/\n",
      "refdata-gex-GRCh38-2020-A/fasta/genome.fa.fai\n",
      "refdata-gex-GRCh38-2020-A/fasta/genome.fa\n",
      "refdata-gex-GRCh38-2020-A/star/\n",
      "refdata-gex-GRCh38-2020-A/star/transcriptInfo.tab\n",
      "refdata-gex-GRCh38-2020-A/star/chrNameLength.txt\n",
      "refdata-gex-GRCh38-2020-A/star/SAindex\n",
      "refdata-gex-GRCh38-2020-A/star/geneInfo.tab\n",
      "refdata-gex-GRCh38-2020-A/star/SA\n",
      "refdata-gex-GRCh38-2020-A/star/exonInfo.tab\n",
      "refdata-gex-GRCh38-2020-A/star/chrStart.txt\n",
      "refdata-gex-GRCh38-2020-A/star/chrName.txt\n",
      "refdata-gex-GRCh38-2020-A/star/sjdbList.fromGTF.out.tab\n",
      "refdata-gex-GRCh38-2020-A/star/chrLength.txt\n",
      "refdata-gex-GRCh38-2020-A/star/sjdbInfo.txt\n",
      "refdata-gex-GRCh38-2020-A/star/genomeParameters.txt\n",
      "refdata-gex-GRCh38-2020-A/star/exonGeTrInfo.tab\n",
      "refdata-gex-GRCh38-2020-A/star/Genome\n",
      "refdata-gex-GRCh38-2020-A/star/sjdbList.out.tab\n",
      "refdata-gex-GRCh38-2020-A/genes/\n",
      "refdata-gex-GRCh38-2020-A/genes/genes.gtf\n",
      "refdata-gex-GRCh38-2020-A/reference.json\n"
     ]
    }
   ],
   "source": [
    "#Downloading reference ~ 3 minutes\n",
    "!curl -O https://cf.10xgenomics.com/supp/cell-exp/refdata-gex-GRCh38-2020-A.tar.gz\n",
    "!tar -xzvf refdata-gex-GRCh38-2020-A.tar.gz\n",
    "!rm refdata-gex-GRCh38-2020-A.tar.gz\n",
    "!rm cellranger-7.1.0.tar.gz"
   ]
  },
  {
   "cell_type": "code",
   "execution_count": 3,
   "id": "7e61b458-4861-4d5e-80e0-8c9c16a2c5b5",
   "metadata": {
    "tags": []
   },
   "outputs": [
    {
     "name": "stdout",
     "output_type": "stream",
     "text": [
      "/home/jovyan\n"
     ]
    }
   ],
   "source": [
    "!pwd"
   ]
  },
  {
   "cell_type": "code",
   "execution_count": 4,
   "id": "7d6aa925-25f2-40db-925b-8dc7f5a85707",
   "metadata": {
    "tags": []
   },
   "outputs": [
    {
     "name": "stdout",
     "output_type": "stream",
     "text": [
      "fasta  genes  pickle  reference.json  star\n"
     ]
    }
   ],
   "source": [
    "!ls refdata-gex-GRCh38-2020-A"
   ]
  },
  {
   "cell_type": "code",
   "execution_count": 5,
   "id": "19ae923f-514d-485c-9ca7-fdeb89249da9",
   "metadata": {
    "tags": []
   },
   "outputs": [
    {
     "name": "stdout",
     "output_type": "stream",
     "text": [
      "Cloning into 'pipeline_perturbseq_like'...\n",
      "remote: Enumerating objects: 240, done.\u001b[K\n",
      "remote: Counting objects: 100% (57/57), done.\u001b[K\n",
      "remote: Compressing objects: 100% (53/53), done.\u001b[K\n",
      "remote: Total 240 (delta 33), reused 4 (delta 4), pack-reused 183\u001b[K\n",
      "Receiving objects: 100% (240/240), 1.23 MiB | 6.37 MiB/s, done.\n",
      "Resolving deltas: 100% (132/132), done.\n"
     ]
    }
   ],
   "source": [
    "!git clone https://github.com/LucasSilvaFerreira/pipeline_perturbseq_like.git "
   ]
  },
  {
   "cell_type": "markdown",
   "id": "57254baa-7ed3-4615-9aa3-ec41a8fc205f",
   "metadata": {},
   "source": [
    "# Template "
   ]
  },
  {
   "cell_type": "code",
   "execution_count": 17,
   "id": "0638d8ac-0350-4e8a-bd0b-2743c07eca58",
   "metadata": {
    "tags": []
   },
   "outputs": [
    {
     "name": "stdout",
     "output_type": "stream",
     "text": [
      "Overwriting cellranger.nf\n"
     ]
    }
   ],
   "source": [
    "%%writefile cellranger.nf\n",
    "\n",
    "\n",
    "params.CELLRANGER_REF = '/home/jovyan/refdata-gex-GRCh38-2020-A'\n",
    "params.GUIDE_FEATURES = '/home/jovyan/pipeline_perturbseq_like/df_from_gasperini_tss.xlsx'\n",
    "params.CHEMISTRY = '10xv2'\n",
    "params.WHITELIST= '/home/jovyan/737K-august-2016.txt'\n",
    "params.FASTQ_FILES_TRANSCRIPTS = ['/mnt/shared/data/bam_pilot_scrna_1/K1000_CRISPRi_cells_r1_SI-GA-G1_MissingLibrary_1_HMMKLBGX3/bamtofastq_S1_L001_R1_001.fastq.gz  /mnt/shared/data/bam_pilot_scrna_1/K1000_CRISPRi_cells_r1_SI-GA-G1_MissingLibrary_1_HMMKLBGX3/bamtofastq_S1_L001_R2_001.fastq.gz  /mnt/shared/data/bam_pilot_scrna_1/K1000_CRISPRi_cells_r1_SI-GA-G1_MissingLibrary_1_HMMMLBGX3/bamtofastq_S1_L001_R1_001.fastq.gz  /mnt/shared/data/bam_pilot_scrna_1/K1000_CRISPRi_cells_r1_SI-GA-G1_MissingLibrary_1_HMMMLBGX3/bamtofastq_S1_L001_R2_001.fastq.gz  /mnt/shared/data/bam_pilot_scrna_1/K1000_CRISPRi_cells_r1_SI-GA-G1_MissingLibrary_1_HW5MKBGX3/bamtofastq_S1_L001_R1_001.fastq.gz  /mnt/shared/data/bam_pilot_scrna_1/K1000_CRISPRi_cells_r1_SI-GA-G1_MissingLibrary_1_HW5MKBGX3/bamtofastq_S1_L001_R2_001.fastq.gz  /mnt/shared/data/bam_pilot_scrna_1/K1000_CRISPRi_cells_r1_SI-GA-G1_MissingLibrary_1_HWVT7BGX3/bamtofastq_S1_L001_R1_001.fastq.gz  /mnt/shared/data/bam_pilot_scrna_1/K1000_CRISPRi_cells_r1_SI-GA-G1_MissingLibrary_1_HWVT7BGX3/bamtofastq_S1_L001_R2_001.fastq.gz  /mnt/shared/data/bam_pilot_scrna_1/K1000_CRISPRi_cells_r1_SI-GA-G1_MissingLibrary_1_HMMKLBGX3/bamtofastq_S1_L002_R1_001.fastq.gz  /mnt/shared/data/bam_pilot_scrna_1/K1000_CRISPRi_cells_r1_SI-GA-G1_MissingLibrary_1_HMMKLBGX3/bamtofastq_S1_L002_R2_001.fastq.gz  /mnt/shared/data/bam_pilot_scrna_1/K1000_CRISPRi_cells_r1_SI-GA-G1_MissingLibrary_1_HMMMLBGX3/bamtofastq_S1_L002_R1_001.fastq.gz  /mnt/shared/data/bam_pilot_scrna_1/K1000_CRISPRi_cells_r1_SI-GA-G1_MissingLibrary_1_HMMMLBGX3/bamtofastq_S1_L002_R2_001.fastq.gz  /mnt/shared/data/bam_pilot_scrna_1/K1000_CRISPRi_cells_r1_SI-GA-G1_MissingLibrary_1_HW5MKBGX3/bamtofastq_S1_L002_R1_001.fastq.gz  /mnt/shared/data/bam_pilot_scrna_1/K1000_CRISPRi_cells_r1_SI-GA-G1_MissingLibrary_1_HW5MKBGX3/bamtofastq_S1_L002_R2_001.fastq.gz  /mnt/shared/data/bam_pilot_scrna_1/K1000_CRISPRi_cells_r1_SI-GA-G1_MissingLibrary_1_HWVT7BGX3/bamtofastq_S1_L002_R1_001.fastq.gz  /mnt/shared/data/bam_pilot_scrna_1/K1000_CRISPRi_cells_r1_SI-GA-G1_MissingLibrary_1_HWVT7BGX3/bamtofastq_S1_L002_R2_001.fastq.gz  /mnt/shared/data/bam_pilot_scrna_1/K1000_CRISPRi_cells_r1_SI-GA-G1_MissingLibrary_1_HMMKLBGX3/bamtofastq_S1_L003_R1_001.fastq.gz  /mnt/shared/data/bam_pilot_scrna_1/K1000_CRISPRi_cells_r1_SI-GA-G1_MissingLibrary_1_HMMKLBGX3/bamtofastq_S1_L003_R2_001.fastq.gz  /mnt/shared/data/bam_pilot_scrna_1/K1000_CRISPRi_cells_r1_SI-GA-G1_MissingLibrary_1_HMMMLBGX3/bamtofastq_S1_L003_R1_001.fastq.gz  /mnt/shared/data/bam_pilot_scrna_1/K1000_CRISPRi_cells_r1_SI-GA-G1_MissingLibrary_1_HMMMLBGX3/bamtofastq_S1_L003_R2_001.fastq.gz  /mnt/shared/data/bam_pilot_scrna_1/K1000_CRISPRi_cells_r1_SI-GA-G1_MissingLibrary_1_HW5MKBGX3/bamtofastq_S1_L003_R1_001.fastq.gz  /mnt/shared/data/bam_pilot_scrna_1/K1000_CRISPRi_cells_r1_SI-GA-G1_MissingLibrary_1_HW5MKBGX3/bamtofastq_S1_L003_R2_001.fastq.gz  /mnt/shared/data/bam_pilot_scrna_1/K1000_CRISPRi_cells_r1_SI-GA-G1_MissingLibrary_1_HWVT7BGX3/bamtofastq_S1_L003_R1_001.fastq.gz  /mnt/shared/data/bam_pilot_scrna_1/K1000_CRISPRi_cells_r1_SI-GA-G1_MissingLibrary_1_HWVT7BGX3/bamtofastq_S1_L003_R2_001.fastq.gz  /mnt/shared/data/bam_pilot_scrna_1/K1000_CRISPRi_cells_r1_SI-GA-G1_MissingLibrary_1_HMMKLBGX3/bamtofastq_S1_L004_R1_001.fastq.gz  /mnt/shared/data/bam_pilot_scrna_1/K1000_CRISPRi_cells_r1_SI-GA-G1_MissingLibrary_1_HMMKLBGX3/bamtofastq_S1_L004_R2_001.fastq.gz  /mnt/shared/data/bam_pilot_scrna_1/K1000_CRISPRi_cells_r1_SI-GA-G1_MissingLibrary_1_HMMMLBGX3/bamtofastq_S1_L004_R1_001.fastq.gz  /mnt/shared/data/bam_pilot_scrna_1/K1000_CRISPRi_cells_r1_SI-GA-G1_MissingLibrary_1_HMMMLBGX3/bamtofastq_S1_L004_R2_001.fastq.gz  /mnt/shared/data/bam_pilot_scrna_1/K1000_CRISPRi_cells_r1_SI-GA-G1_MissingLibrary_1_HW5MKBGX3/bamtofastq_S1_L004_R1_001.fastq.gz  /mnt/shared/data/bam_pilot_scrna_1/K1000_CRISPRi_cells_r1_SI-GA-G1_MissingLibrary_1_HW5MKBGX3/bamtofastq_S1_L004_R2_001.fastq.gz  /mnt/shared/data/bam_pilot_scrna_1/K1000_CRISPRi_cells_r1_SI-GA-G1_MissingLibrary_1_HWVT7BGX3/bamtofastq_S1_L004_R1_001.fastq.gz  /mnt/shared/data/bam_pilot_scrna_1/K1000_CRISPRi_cells_r1_SI-GA-G1_MissingLibrary_1_HWVT7BGX3/bamtofastq_S1_L004_R2_001.fastq.gz'] \n",
    "params.FASTQ_NAMES_TRANSCRIPTS = ['S1_L1'] \n",
    "params.FASTQ_FILES_GUIDES = ['/mnt/shared/data/bam_pilot_guide_1/K1000_CRISPRi_gRNA_r1_CGTTACCG_MissingLibrary_1_HMMKLBGX3/bamtofastq_S1_L001_R1_001.fastq.gz  /mnt/shared/data/bam_pilot_guide_1/K1000_CRISPRi_gRNA_r1_CGTTACCG_MissingLibrary_1_HMMKLBGX3/bamtofastq_S1_L001_R2_001.fastq.gz  /mnt/shared/data/bam_pilot_guide_1/K1000_CRISPRi_gRNA_r1_CGTTACCG_MissingLibrary_1_HMMMLBGX3/bamtofastq_S1_L001_R1_001.fastq.gz  /mnt/shared/data/bam_pilot_guide_1/K1000_CRISPRi_gRNA_r1_CGTTACCG_MissingLibrary_1_HMMMLBGX3/bamtofastq_S1_L001_R2_001.fastq.gz  /mnt/shared/data/bam_pilot_guide_1/K1000_CRISPRi_gRNA_r1_CGTTACCG_MissingLibrary_1_HW5MKBGX3/bamtofastq_S1_L001_R1_001.fastq.gz  /mnt/shared/data/bam_pilot_guide_1/K1000_CRISPRi_gRNA_r1_CGTTACCG_MissingLibrary_1_HW5MKBGX3/bamtofastq_S1_L001_R2_001.fastq.gz  /mnt/shared/data/bam_pilot_guide_1/K1000_CRISPRi_gRNA_r1_CGTTACCG_MissingLibrary_1_HMMKLBGX3/bamtofastq_S1_L002_R1_001.fastq.gz  /mnt/shared/data/bam_pilot_guide_1/K1000_CRISPRi_gRNA_r1_CGTTACCG_MissingLibrary_1_HMMKLBGX3/bamtofastq_S1_L002_R2_001.fastq.gz  /mnt/shared/data/bam_pilot_guide_1/K1000_CRISPRi_gRNA_r1_CGTTACCG_MissingLibrary_1_HMMMLBGX3/bamtofastq_S1_L002_R1_001.fastq.gz  /mnt/shared/data/bam_pilot_guide_1/K1000_CRISPRi_gRNA_r1_CGTTACCG_MissingLibrary_1_HMMMLBGX3/bamtofastq_S1_L002_R2_001.fastq.gz  /mnt/shared/data/bam_pilot_guide_1/K1000_CRISPRi_gRNA_r1_CGTTACCG_MissingLibrary_1_HW5MKBGX3/bamtofastq_S1_L002_R1_001.fastq.gz  /mnt/shared/data/bam_pilot_guide_1/K1000_CRISPRi_gRNA_r1_CGTTACCG_MissingLibrary_1_HW5MKBGX3/bamtofastq_S1_L002_R2_001.fastq.gz  /mnt/shared/data/bam_pilot_guide_1/K1000_CRISPRi_gRNA_r1_CGTTACCG_MissingLibrary_1_HMMKLBGX3/bamtofastq_S1_L003_R1_001.fastq.gz  /mnt/shared/data/bam_pilot_guide_1/K1000_CRISPRi_gRNA_r1_CGTTACCG_MissingLibrary_1_HMMKLBGX3/bamtofastq_S1_L003_R2_001.fastq.gz  /mnt/shared/data/bam_pilot_guide_1/K1000_CRISPRi_gRNA_r1_CGTTACCG_MissingLibrary_1_HMMMLBGX3/bamtofastq_S1_L003_R1_001.fastq.gz  /mnt/shared/data/bam_pilot_guide_1/K1000_CRISPRi_gRNA_r1_CGTTACCG_MissingLibrary_1_HMMMLBGX3/bamtofastq_S1_L003_R2_001.fastq.gz  /mnt/shared/data/bam_pilot_guide_1/K1000_CRISPRi_gRNA_r1_CGTTACCG_MissingLibrary_1_HW5MKBGX3/bamtofastq_S1_L003_R1_001.fastq.gz  /mnt/shared/data/bam_pilot_guide_1/K1000_CRISPRi_gRNA_r1_CGTTACCG_MissingLibrary_1_HW5MKBGX3/bamtofastq_S1_L003_R2_001.fastq.gz  /mnt/shared/data/bam_pilot_guide_1/K1000_CRISPRi_gRNA_r1_CGTTACCG_MissingLibrary_1_HMMKLBGX3/bamtofastq_S1_L004_R1_001.fastq.gz  /mnt/shared/data/bam_pilot_guide_1/K1000_CRISPRi_gRNA_r1_CGTTACCG_MissingLibrary_1_HMMKLBGX3/bamtofastq_S1_L004_R2_001.fastq.gz  /mnt/shared/data/bam_pilot_guide_1/K1000_CRISPRi_gRNA_r1_CGTTACCG_MissingLibrary_1_HMMMLBGX3/bamtofastq_S1_L004_R1_001.fastq.gz  /mnt/shared/data/bam_pilot_guide_1/K1000_CRISPRi_gRNA_r1_CGTTACCG_MissingLibrary_1_HMMMLBGX3/bamtofastq_S1_L004_R2_001.fastq.gz  /mnt/shared/data/bam_pilot_guide_1/K1000_CRISPRi_gRNA_r1_CGTTACCG_MissingLibrary_1_HW5MKBGX3/bamtofastq_S1_L004_R1_001.fastq.gz  /mnt/shared/data/bam_pilot_guide_1/K1000_CRISPRi_gRNA_r1_CGTTACCG_MissingLibrary_1_HW5MKBGX3/bamtofastq_S1_L004_R2_001.fastq.gz'] \n",
    "params.FASTQ_NAMES_GUIDES = ['S1_L1'] \n",
    "params.THREADS = 10\n",
    "\n",
    "\n",
    "\n",
    "\n",
    "\n",
    "process cellranger {\n",
    "        cpus 5\n",
    "        debug true\n",
    "        input:\n",
    "        tuple val(rna_sample_name)\n",
    "        tuple val(rna_string_fastqz)\n",
    "        tuple val(guide_sample_name)\n",
    "        tuple val(guide_string_fastqz)\n",
    "        tuple val(guide_features)\n",
    "        tuple val (cellranger_ref)\n",
    "        tuple val(chemistry)\n",
    "        tuple val(threads)\n",
    "        tuple val(whitelist)\n",
    "        output:\n",
    "        path ('outs/filtered_feature_bc_matrix/matrix.mtx.gz'),  emit: mtx_file\n",
    "\n",
    "        script:\n",
    "    \n",
    "        \"\"\"\n",
    "        \n",
    "        chmod 700 /home/jovyan/generating_cell_range_inputs.py\n",
    "        /home/jovyan/generating_cell_range_inputs.py --rna_sample_name $rna_sample_name --rna_string_fastqz \"$rna_string_fastqz\"  --guide_sample_name $guide_sample_name   --guide_string_fastqz  \"$guide_string_fastqz\"  --guide_features $guide_features  --cellranger_ref $cellranger_ref --chemistry  $chemistry  --whitelist $whitelist\n",
    "        #The script generating_cell_range_inputs.py should create the library.csv and feature_ref.csv \n",
    "        #remove the comment to run cellranger\n",
    "        #//cellranger count --id=gasperini_01 --libraries=library.csv --transcriptome=$cellranger_ref --feature-ref=feature_ref.csv \n",
    "        \n",
    "        \n",
    "        \n",
    "        #Artificially creating the output. Remove it when cellranger starts running.\n",
    "        \n",
    "        mkdir  outs\n",
    "        mkdir  outs/filtered_feature_bc_matrix/\n",
    "        mkdir 'outs/filtered_feature_bc_matrix/matrix.mtx.gz'\n",
    "        \n",
    "        \"\"\"\n",
    "} \n",
    "        \n",
    "\n",
    "\n",
    "workflow {\n",
    "    \n",
    "      cellranger_out = cellranger (\n",
    "                 Channel.from(params.FASTQ_NAMES_TRANSCRIPTS),\n",
    "                 Channel.from(params.FASTQ_FILES_TRANSCRIPTS),\n",
    "                 Channel.from(params.FASTQ_NAMES_GUIDES),\n",
    "                 Channel.from(params.FASTQ_FILES_GUIDES),\n",
    "                 Channel.from(params.GUIDE_FEATURES),\n",
    "                 Channel.from(params.cellranger_ref),\n",
    "                 Channel.of(params.CHEMISTRY).collect(),\n",
    "                 Channel.of(params.THREADS).collect(),\n",
    "                 Channel.of(params.WHITELIST).collect(),\n",
    "                )\n",
    "\n",
    "\n",
    "\n",
    "}\n"
   ]
  },
  {
   "cell_type": "code",
   "execution_count": 18,
   "id": "ea887948-2a5a-43c9-97fa-3adf8d7f078d",
   "metadata": {
    "tags": []
   },
   "outputs": [
    {
     "name": "stdout",
     "output_type": "stream",
     "text": [
      "Overwriting generating_cell_range_inputs.py\n"
     ]
    }
   ],
   "source": [
    "%%writefile  generating_cell_range_inputs.py\n",
    "#!/usr/bin/env python\n",
    "import argparse\n",
    "\n",
    "parser = argparse.ArgumentParser(description='Description of your program')\n",
    "parser.add_argument('--rna_sample_name', help='Description of the RNA sample name variable')\n",
    "parser.add_argument('--rna_string_fastqz', help='Description of the RNA string fastqz variable')\n",
    "parser.add_argument('--guide_sample_name', help='Description of the guide sample name variable')\n",
    "parser.add_argument('--guide_string_fastqz',  help='Description of the string fastqz variable')\n",
    "parser.add_argument('--guide_features',  help='Description of the guide features variable')\n",
    "parser.add_argument('--cellranger_ref',  help='Description of the cellranger ref')\n",
    "parser.add_argument('--chemistry',  help='Description of the chemistry variable')\n",
    "parser.add_argument('--threads', type=int, help='Description of the threads variable')\n",
    "parser.add_argument('--whitelist', help='Description of the whitelist variable')\n",
    "\n",
    "args = parser.parse_args()\n",
    "\n",
    "print(args.rna_sample_name)\n",
    "print(args.rna_string_fastqz)\n",
    "print(args.guide_sample_name)\n",
    "print(args.guide_string_fastqz)\n",
    "print(args.guide_features)\n",
    "print(args.cellranger_ref)\n",
    "print(args.chemistry)\n",
    "print(args.threads)\n",
    "print(args.whitelist)\n",
    "\n",
    "#ex:\n",
    "\n",
    "\n",
    "\n",
    "\n",
    "#Use these variables to create the inputs for  cellranger.\n"
   ]
  },
  {
   "cell_type": "code",
   "execution_count": 20,
   "id": "fc38c041-7f60-456d-8af6-c46a2aa0c866",
   "metadata": {
    "tags": []
   },
   "outputs": [
    {
     "name": "stdout",
     "output_type": "stream",
     "text": [
      "N E X T F L O W  ~  version 22.10.6\n",
      "Launching `cellranger.nf` [voluminous_jepsen] DSL2 - revision: d11b465b5e\n",
      "\u001b[33mWARN: Access to undefined parameter `cellranger_ref` -- Initialise it to a default value eg. `params.cellranger_ref = some_value`\u001b[39m\u001b[K\n",
      "\u001b[33mWARN: Access to undefined parameter `THREADS` -- Initialise it to a default value eg. `params.THREADS = some_value`\u001b[39m\u001b[K\n",
      "\u001b[33mWARN: Input `set` must define at least two component -- Check process `cellranger`\u001b[39m\u001b[K\n",
      "[-        ] process > cellranger -\u001b[K\n",
      "\n"
     ]
    }
   ],
   "source": [
    "!nextflow run cellranger.nf -w test_cellranger"
   ]
  },
  {
   "cell_type": "markdown",
   "id": "f7ab230a-a6ef-4e79-aeda-8d2d1ced5095",
   "metadata": {
    "tags": []
   },
   "source": [
    "# SANDBOX"
   ]
  },
  {
   "cell_type": "code",
   "execution_count": 21,
   "id": "e92bf9a9-35ac-4815-bac1-d5f1e7b85ace",
   "metadata": {
    "tags": []
   },
   "outputs": [
    {
     "name": "stdout",
     "output_type": "stream",
     "text": [
      "/bin/bash: line 1: ./cellranger-7.1.0/bin/cellranger: No such file or directory\n"
     ]
    }
   ],
   "source": [
    "#executing cell ranger\n",
    "!./cellranger-7.1.0/bin/cellranger  "
   ]
  },
  {
   "cell_type": "code",
   "execution_count": 8,
   "id": "edf1759a-510a-4c35-88ec-7a2bba1ba779",
   "metadata": {
    "tags": []
   },
   "outputs": [
    {
     "name": "stdout",
     "output_type": "stream",
     "text": [
      "\u001b[0m\u001b[0m\u001b[0m\u001b[0m\u001b[0m\u001b[32mcellranger\u001b[0m\u001b[0m \u001b[0m\u001b[0mcellranger-7.1.0\u001b[0m\u001b[0m\n",
      "\u001b[0m\u001b[0m\u001b[0m\u001b[0mProcess 10x Genomics Gene Expression, Feature Barcode, and Immune Profiling data\u001b[0m\u001b[0m\n",
      "\u001b[0m\u001b[0m\n",
      "\u001b[0m\u001b[0m\u001b[33mUSAGE:\u001b[0m\u001b[0m\n",
      "    \u001b[0m\u001b[0mcellranger <SUBCOMMAND>\u001b[0m\u001b[0m\n",
      "\n",
      "\u001b[0m\u001b[0m\u001b[33mOPTIONS:\n",
      "\u001b[0m\u001b[0m    \u001b[0m\u001b[0m\u001b[32m-h\u001b[0m\u001b[0m, \u001b[0m\u001b[0m\u001b[32m--help\u001b[0m\u001b[0m       \u001b[0m\u001b[0mPrint help information\u001b[0m\u001b[0m\n",
      "\u001b[0m\u001b[0m    \u001b[0m\u001b[0m\u001b[32m-V\u001b[0m\u001b[0m, \u001b[0m\u001b[0m\u001b[32m--version\u001b[0m\u001b[0m    \u001b[0m\u001b[0mPrint version information\u001b[0m\u001b[0m\n",
      "\n",
      "\u001b[0m\u001b[0m\u001b[33mSUBCOMMANDS\u001b[0m\u001b[0m\u001b[33m:\n",
      "\u001b[0m\u001b[0m    \u001b[0m\u001b[0m\u001b[32mcount\u001b[0m\u001b[0m               \u001b[0m\u001b[0mCount gene expression (targeted or\u001b[0m\u001b[0m\n",
      "\u001b[0m\u001b[0m                            \u001b[0m\u001b[0mwhole-transcriptome) and/or feature barcode reads\u001b[0m\u001b[0m\n",
      "\u001b[0m\u001b[0m                            \u001b[0m\u001b[0mfrom a single sample and GEM well\u001b[0m\u001b[0m\n",
      "\u001b[0m\u001b[0m    \u001b[0m\u001b[0m\u001b[32mmulti\u001b[0m\u001b[0m               \u001b[0m\u001b[0mAnalyze multiplexed data or combined gene\u001b[0m\u001b[0m\n",
      "\u001b[0m\u001b[0m                            \u001b[0m\u001b[0mexpression/immune profiling/feature barcode data\u001b[0m\u001b[0m\n",
      "\u001b[0m\u001b[0m    \u001b[0m\u001b[0m\u001b[32mmulti-template\u001b[0m\u001b[0m      \u001b[0m\u001b[0mOutput a multi config CSV template\u001b[0m\u001b[0m\n",
      "\u001b[0m\u001b[0m    \u001b[0m\u001b[0m\u001b[32mvdj\u001b[0m\u001b[0m                 \u001b[0m\u001b[0mAssembles single-cell VDJ receptor sequences from\u001b[0m\u001b[0m\n",
      "\u001b[0m\u001b[0m                            \u001b[0m\u001b[0m10x Immune Profiling libraries\u001b[0m\u001b[0m\n",
      "\u001b[0m\u001b[0m    \u001b[0m\u001b[0m\u001b[32maggr\u001b[0m\u001b[0m                \u001b[0m\u001b[0mAggregate data from multiple Cell Ranger runs\u001b[0m\u001b[0m\n",
      "\u001b[0m\u001b[0m    \u001b[0m\u001b[0m\u001b[32mreanalyze\u001b[0m\u001b[0m           \u001b[0m\u001b[0mRe-run secondary analysis (dimensionality reduction,\u001b[0m\u001b[0m\n",
      "\u001b[0m\u001b[0m                            \u001b[0m\u001b[0mclustering, etc)\u001b[0m\u001b[0m\n",
      "\u001b[0m\u001b[0m    \u001b[0m\u001b[0m\u001b[32mtargeted-compare\u001b[0m\u001b[0m    \u001b[0m\u001b[0mAnalyze targeted enrichment performance by comparing\u001b[0m\u001b[0m\n",
      "\u001b[0m\u001b[0m                            \u001b[0m\u001b[0ma targeted sample to its cognate parent WTA sample\u001b[0m\u001b[0m\n",
      "\u001b[0m\u001b[0m                            \u001b[0m\u001b[0m(used as input for targeted gene expression)\u001b[0m\u001b[0m\n",
      "\u001b[0m\u001b[0m    \u001b[0m\u001b[0m\u001b[32mtargeted-depth\u001b[0m\u001b[0m      \u001b[0m\u001b[0mEstimate targeted read depth values (mean reads per\u001b[0m\u001b[0m\n",
      "\u001b[0m\u001b[0m                            \u001b[0m\u001b[0mcell) for a specified input parent WTA sample and a\u001b[0m\u001b[0m\n",
      "\u001b[0m\u001b[0m                            \u001b[0m\u001b[0mtarget panel CSV file\u001b[0m\u001b[0m\n",
      "\u001b[0m\u001b[0m    \u001b[0m\u001b[0m\u001b[32mmkvdjref\u001b[0m\u001b[0m            \u001b[0m\u001b[0mPrepare a reference for use with CellRanger VDJ\u001b[0m\u001b[0m\n",
      "\u001b[0m\u001b[0m    \u001b[0m\u001b[0m\u001b[32mmkfastq\u001b[0m\u001b[0m             \u001b[0m\u001b[0mRun Illumina demultiplexer on sample sheets that\u001b[0m\u001b[0m\n",
      "\u001b[0m\u001b[0m                            \u001b[0m\u001b[0mcontain 10x-specific sample index sets\u001b[0m\u001b[0m\n",
      "\u001b[0m\u001b[0m    \u001b[0m\u001b[0m\u001b[32mtestrun\u001b[0m\u001b[0m             \u001b[0m\u001b[0mExecute the 'count' pipeline on a small test dataset\u001b[0m\u001b[0m\n",
      "\u001b[0m\u001b[0m    \u001b[0m\u001b[0m\u001b[32mmat2csv\u001b[0m\u001b[0m             \u001b[0m\u001b[0mConvert a gene count matrix to CSV format\u001b[0m\u001b[0m\n",
      "\u001b[0m\u001b[0m    \u001b[0m\u001b[0m\u001b[32mmkref\u001b[0m\u001b[0m               \u001b[0m\u001b[0mPrepare a reference for use with 10x analysis\u001b[0m\u001b[0m\n",
      "\u001b[0m\u001b[0m                            \u001b[0m\u001b[0msoftware. Requires a GTF and FASTA\u001b[0m\u001b[0m\n",
      "\u001b[0m\u001b[0m    \u001b[0m\u001b[0m\u001b[32mmkgtf\u001b[0m\u001b[0m               \u001b[0m\u001b[0mFilter a GTF file by attribute prior to creating a\u001b[0m\u001b[0m\n",
      "\u001b[0m\u001b[0m                            \u001b[0m\u001b[0m10x reference\u001b[0m\u001b[0m\n",
      "\u001b[0m\u001b[0m    \u001b[0m\u001b[0m\u001b[32mupload\u001b[0m\u001b[0m              \u001b[0m\u001b[0mUpload analysis logs to 10x Genomics support\u001b[0m\u001b[0m\n",
      "\u001b[0m\u001b[0m    \u001b[0m\u001b[0m\u001b[32msitecheck\u001b[0m\u001b[0m           \u001b[0m\u001b[0mCollect linux system configuration information\u001b[0m\u001b[0m\n",
      "\u001b[0m\u001b[0m    \u001b[0m\u001b[0m\u001b[32mhelp\u001b[0m\u001b[0m                \u001b[0m\u001b[0mPrint this message or the help of the given\u001b[0m\u001b[0m\n",
      "\u001b[0m\u001b[0m                            \u001b[0m\u001b[0msubcommand(s)\u001b[0m\u001b[0m\u001b[0m\u001b[0m\u001b[0m\u001b[0m\n",
      "\u001b[0m"
     ]
    }
   ],
   "source": []
  },
  {
   "cell_type": "code",
   "execution_count": null,
   "id": "cbf64177-d941-4820-b7b2-de3c0eb0e955",
   "metadata": {},
   "outputs": [],
   "source": []
  }
 ],
 "metadata": {
  "kernelspec": {
   "display_name": "Python 3 (ipykernel)",
   "language": "python",
   "name": "python3"
  },
  "language_info": {
   "codemirror_mode": {
    "name": "ipython",
    "version": 3
   },
   "file_extension": ".py",
   "mimetype": "text/x-python",
   "name": "python",
   "nbconvert_exporter": "python",
   "pygments_lexer": "ipython3",
   "version": "3.10.10"
  }
 },
 "nbformat": 4,
 "nbformat_minor": 5
}
