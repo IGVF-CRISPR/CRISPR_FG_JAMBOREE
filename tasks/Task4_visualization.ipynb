{
  "cells": [
    {
      "cell_type": "markdown",
      "id": "6c06416b-bebd-4cdb-8251-d57ea84291d3",
      "metadata": {
        "id": "6c06416b-bebd-4cdb-8251-d57ea84291d3"
      },
      "source": [
        "# Task4 \n",
        "## Create genomic tracks for visualization on Genome Browsers from the differential perturbation analysis\n",
        "---\n",
        "## Relevance:\n",
        "Generate visualizations that can be easily integrated into the genome browser visualizers\n",
        "\n",
        "## Practical description:\n",
        "- [x]  Create a “generateTracks” process that will be used after sceptre generate results.  \n",
        "- [ ] Use the Mudata (\"mudata_results.h5mu\") to capture all the outputs (z-value, p-value, adj-value) for each gene and tested guide   \n",
        "- [ ] Create a bed file with the significance of a given SNP or promoter region, name field can be the SNP name and Gene name based on the results of the differential perturbation   tool (EX: sceptre)  \n",
        "- [ ] Write a link  file (pyGenomeTraks) to visualize loops linking between guide regions and gene regions based on the results of the differential perturbation   https://pygenometracks.readthedocs.io/en/latest/content/tracks/links.html\n",
        "- [ ] Create some visualizations and save as a png file inside a tracks_dir subdir\n",
        "\n"
      ]
    },
    {
      "cell_type": "markdown",
      "id": "1941d336-865f-4631-90ec-76a380e55019",
      "metadata": {
        "id": "1941d336-865f-4631-90ec-76a380e55019"
      },
      "source": [
        "# Downloading the File"
      ]
    },
    {
      "cell_type": "code",
      "execution_count": null,
      "id": "2e999e51-f8db-4d53-8c8d-8a04f45b4f29",
      "metadata": {
        "tags": [],
        "id": "2e999e51-f8db-4d53-8c8d-8a04f45b4f29"
      },
      "outputs": [],
      "source": [
        "\n",
        "!wget https://www.dropbox.com/s/5jysq76bttem3jd/mudata_results.h5mu?dl=1 -o mudata_results.h5mu\n",
        "!mv mudata_results.h5mu?dl=1 mudata_results.h5mu\n"
      ]
    },
    {
      "cell_type": "markdown",
      "id": "544a616c-e7b6-48ce-bb83-cb28574c10a0",
      "metadata": {
        "id": "544a616c-e7b6-48ce-bb83-cb28574c10a0"
      },
      "source": [
        "## Developing"
      ]
    },
    {
      "cell_type": "code",
      "execution_count": null,
      "id": "2767de27-f73e-4a20-9930-26840128c5f4",
      "metadata": {
        "tags": [],
        "id": "2767de27-f73e-4a20-9930-26840128c5f4",
        "outputId": "86e1ba59-6bdb-4036-9790-23fc084ccb33"
      },
      "outputs": [
        {
          "name": "stdout",
          "output_type": "stream",
          "text": [
            "Overwriting results_track_visualization.nf\n"
          ]
        }
      ],
      "source": [
        "%%writefile results_track_visualization.nf\n",
        "nextflow.enable.dsl=2\n",
        "params.MU_RESULTS = '/home/jovyan/mudata_results.h5mu'\n",
        "\n",
        "\n",
        "\n",
        "useMamba = true\n",
        "//place to cash conda/mamba packages\n",
        "cacheDir =  '/home/jovyan' \n",
        "\n",
        "process generateTracks {\n",
        "    //case installing new packages\n",
        "    //conda 'bioconda::pygenometracks=3.8'\n",
        "    debug true\n",
        "   conda '/opt/conda/envs/pygenomictracks'\n",
        "   debug true\n",
        "    input:\n",
        "    path results_mudata\n",
        "    output:\n",
        "    path 'tracks_dir', emit: traks_dir_our\n",
        "  script:\n",
        "    \"\"\"\n",
        "     chmod 700 /home/jovyan/track_generation.py\n",
        "     /home/jovyan/track_generation.py ${results_mudata}\n",
        "     #pyGenomeTracks\n",
        "    \"\"\"\n",
        "    \n",
        "}\n",
        "\n",
        "workflow {\n",
        "    generateTracks(params.MU_RESULTS)\n",
        "    \n",
        "}\n"
      ]
    },
    {
      "cell_type": "markdown",
      "source": [],
      "metadata": {
        "id": "jhbhAolInZv6"
      },
      "id": "jhbhAolInZv6"
    },
    {
      "cell_type": "code",
      "execution_count": null,
      "id": "325acc5c-6bc1-4d07-b072-f7416882ee84",
      "metadata": {
        "tags": [],
        "id": "325acc5c-6bc1-4d07-b072-f7416882ee84",
        "outputId": "dca4e92c-c8bd-4ea4-b122-839b08bebd82"
      },
      "outputs": [
        {
          "name": "stdout",
          "output_type": "stream",
          "text": [
            "Overwriting track_generation.py\n"
          ]
        }
      ],
      "source": [
        "%%writefile track_generation.py\n",
        "#!/usr/bin/env python\n",
        "\n",
        "import sys\n",
        "import os\n",
        "import mudata as md\n",
        "\n",
        "\n",
        "mu_results = md.read(sys.argv[1])\n",
        "\n",
        "#This script will have  the code to parse and create the tracks/images\n",
        "\n",
        "\n",
        "\n",
        "\n",
        "os.mkdir('tracks_dir')\n",
        "#save all the tracks/figures inside tracks_dir. It's allowed create subdirectories\n",
        "#dont use absolute paths, instead use : tracks_dir/subdir/file_name.extension"
      ]
    },
    {
      "cell_type": "code",
      "execution_count": null,
      "id": "a7f0ff02-70d7-4619-bfc4-4caffe3b8f15",
      "metadata": {
        "tags": [],
        "id": "a7f0ff02-70d7-4619-bfc4-4caffe3b8f15",
        "outputId": "44f101a9-5282-4f23-dd14-c53847541328"
      },
      "outputs": [
        {
          "name": "stdout",
          "output_type": "stream",
          "text": [
            "N E X T F L O W  ~  version 22.10.6\n",
            "Launching `results_track_visualization.nf` [wise_moriondo] DSL2 - revision: 6f602cc35e\n",
            "[-        ] process > generateTracks -\u001b[K\n",
            "\u001b[2A\n",
            "executor >  local (1)\u001b[K\n",
            "[a7/c20175] process > generateTracks [  0%] 0 of 1\u001b[K\n",
            "\u001b[3A\n",
            "executor >  local (1)\u001b[K\n",
            "[a7/c20175] process > generateTracks [100%] 1 of 1 ✔\u001b[K\n",
            "\u001b[K\n",
            "\n"
          ]
        }
      ],
      "source": [
        "!nextflow results_track_visualization.nf -w track_test_01  -with-conda true\n",
        "# use -with-conda true        case using a custom conda enviroment\n"
      ]
    },
    {
      "cell_type": "markdown",
      "id": "b3c544d3-9c86-48fe-b06b-fbafadd7462c",
      "metadata": {
        "id": "b3c544d3-9c86-48fe-b06b-fbafadd7462c"
      },
      "source": [
        "## Using pyGenomeTracks outside nextflow\n",
        "\n"
      ]
    },
    {
      "cell_type": "code",
      "execution_count": null,
      "id": "ed1a205d-c9c9-4cb1-9549-6f2c45d41ceb",
      "metadata": {
        "collapsed": true,
        "jupyter": {
          "outputs_hidden": true
        },
        "tags": [],
        "id": "ed1a205d-c9c9-4cb1-9549-6f2c45d41ceb",
        "outputId": "79859739-92de-4007-aa83-132dd7346f90"
      },
      "outputs": [
        {
          "name": "stdout",
          "output_type": "stream",
          "text": [
            "usage: pyGenomeTracks --tracks tracks.ini --region chr1:1000000-4000000 -o image.png\n",
            "\n",
            "Plots genomic tracks on specified region(s). Citations : Ramirez et al. High-\n",
            "resolution TADs reveal DNA sequences underlying genome organization in flies.\n",
            "Nature Communications (2018) doi:10.1038/s41467-017-02525-w Lopez-Delisle et\n",
            "al. pyGenomeTracks: reproducible plots for multivariate genomic datasets.\n",
            "Bioinformatics (2020) doi:10.1093/bioinformatics/btaa692\n",
            "\n",
            "options:\n",
            "  -h, --help            show this help message and exit\n",
            "  --tracks TRACKS       File containing the instructions to plot the tracks.\n",
            "                        The tracks.ini file can be genarated using the\n",
            "                        `make_tracks_file` program.\n",
            "  --region REGION       Region to plot, the format is chr:start-end\n",
            "  --BED BED             Instead of a region, a file containing the regions to\n",
            "                        plot, in BED format, can be given. If this is the\n",
            "                        case, multiple files will be created. It will use the\n",
            "                        value of --outFileName as a template and put the\n",
            "                        coordinates between the file name and the extension.\n",
            "  --width WIDTH         figure width in centimeters (default is 40)\n",
            "  --plotWidth PLOTWIDTH\n",
            "                        width in centimeters of the plotting (central) part\n",
            "  --height HEIGHT       Figure height in centimeters. If not given, the figure\n",
            "                        height is computed based on the heights of the tracks.\n",
            "                        If given, the track height are proportionally scaled\n",
            "                        to match the desired figure height.\n",
            "  --title TITLE, -t TITLE\n",
            "                        Plot title\n",
            "  --outFileName OUTFILENAME, -out OUTFILENAME\n",
            "                        File name to save the image, file prefix in case\n",
            "                        multiple images are stored\n",
            "  --fontSize FONTSIZE   Font size for the labels of the plot (default is 0.3 *\n",
            "                        figure width)\n",
            "  --dpi DPI             Resolution for the image in case the ouput is a raster\n",
            "                        graphics image (e.g png, jpg) (default is 72)\n",
            "  --trackLabelFraction TRACKLABELFRACTION\n",
            "                        By default the space dedicated to the track labels is\n",
            "                        0.05 of the plot width. This fraction can be changed\n",
            "                        with this parameter if needed.\n",
            "  --trackLabelHAlign {left,right,center}\n",
            "                        By default, the horizontal alignment of the track\n",
            "                        labels is left. This alignemnt can be changed to right\n",
            "                        or center.\n",
            "  --decreasingXAxis     By default, the x-axis is increasing. Use this option\n",
            "                        if you want to see all tracks with a decreasing\n",
            "                        x-axis.\n",
            "  --version             show program's version number and exit\n"
          ]
        }
      ],
      "source": [
        "\n",
        "!source activate pygenomictracks; pyGenomeTracks\n"
      ]
    },
    {
      "cell_type": "code",
      "execution_count": null,
      "id": "cf3088ea-fdcc-4a72-8644-9c0fa9088570",
      "metadata": {
        "id": "cf3088ea-fdcc-4a72-8644-9c0fa9088570"
      },
      "outputs": [],
      "source": [
        "#Small example using python parameters directly in the terminal\n",
        "test1 = 'my_test_value1'\n",
        "test2 = 'my_test_value2'\n",
        "!source activate pygenomictracks; pyGenomeTracks $teste $test2\n"
      ]
    },
    {
      "cell_type": "markdown",
      "id": "7c521b7a-6300-4297-ac66-10633e98fb5b",
      "metadata": {
        "id": "7c521b7a-6300-4297-ac66-10633e98fb5b"
      },
      "source": [
        "## Manipulation instructions example"
      ]
    },
    {
      "cell_type": "markdown",
      "id": "804243dc-2876-49d7-9438-eb4b0716f680",
      "metadata": {
        "id": "804243dc-2876-49d7-9438-eb4b0716f680"
      },
      "source": [
        "obs:\n",
        "- This results were created only for a few guides\n",
        "- The small amount of cells reduced the significance, even these positive promoter genes aren't perfect\n",
        "- You can use ODC1 to start developing the visualization\n",
        "- The pvalues for the elements results aren't\n",
        "- You can prototype debug/prototype using jupyter."
      ]
    },
    {
      "cell_type": "code",
      "execution_count": null,
      "id": "ccc53fec-5c6b-4a2b-b4db-a245f2274413",
      "metadata": {
        "collapsed": true,
        "jupyter": {
          "outputs_hidden": true
        },
        "tags": [],
        "id": "ccc53fec-5c6b-4a2b-b4db-a245f2274413",
        "outputId": "31311fec-945c-481d-d881-d4ed50a09a42"
      },
      "outputs": [
        {
          "name": "stderr",
          "output_type": "stream",
          "text": [
            "/opt/conda/lib/python3.10/site-packages/anndata/_core/anndata.py:121: ImplicitModificationWarning: Transforming to str index.\n",
            "  warnings.warn(\"Transforming to str index.\", ImplicitModificationWarning)\n",
            "/opt/conda/lib/python3.10/site-packages/anndata/_core/anndata.py:121: ImplicitModificationWarning: Transforming to str index.\n",
            "  warnings.warn(\"Transforming to str index.\", ImplicitModificationWarning)\n",
            "/opt/conda/lib/python3.10/site-packages/anndata/_core/anndata.py:121: ImplicitModificationWarning: Transforming to str index.\n",
            "  warnings.warn(\"Transforming to str index.\", ImplicitModificationWarning)\n",
            "/opt/conda/lib/python3.10/site-packages/mudata/_core/mudata.py:458: UserWarning: Cannot join columns with the same name because var_names are intersecting.\n",
            "  warnings.warn(\n"
          ]
        }
      ],
      "source": [
        "\n",
        "import mudata as md\n",
        "mu_results = md.read('/home/jovyan/mudata_results.h5mu')"
      ]
    },
    {
      "cell_type": "code",
      "execution_count": null,
      "id": "e7efe197-db3d-49e4-925c-d1d4c78f7bfd",
      "metadata": {
        "jupyter": {
          "outputs_hidden": true
        },
        "tags": [],
        "id": "e7efe197-db3d-49e4-925c-d1d4c78f7bfd",
        "outputId": "8c8825e8-5176-4f69-de28-5058280f455c"
      },
      "outputs": [
        {
          "data": {
            "text/html": [
              "<pre>MuData object with n_obs × n_vars = 5218 × 17212\n",
              "  4 modalities\n",
              "    guides:\t5109 x 98\n",
              "      obs:\t&#x27;bath_number&#x27;, &#x27;percent_mito&#x27;, &#x27;log_number_of_detected_genes&#x27;, &#x27;log_total_gene_count&#x27;, &#x27;log_total_guide_count&#x27;\n",
              "      var:\t&#x27;feature_name&#x27;, &#x27;guide_chr&#x27;, &#x27;guide_end&#x27;, &#x27;guide_start&#x27;, &#x27;guide_number&#x27;, &#x27;target_elements&#x27;\n",
              "    scRNA:\t5109 x 16030\n",
              "      obs:\t&#x27;bath_number&#x27;, &#x27;percent_mito&#x27;, &#x27;log_number_of_detected_genes&#x27;, &#x27;log_total_gene_count&#x27;, &#x27;log_total_guide_count&#x27;\n",
              "      var:\t&#x27;feature_name&#x27;, &#x27;n_cells&#x27;, &#x27;transcript_chr&#x27;, &#x27;transcript_start&#x27;, &#x27;transcript_end&#x27;, &#x27;ensg&#x27;\n",
              "    result_guides:\t68 x 542\n",
              "      obs:\t&#x27;feature_name&#x27;, &#x27;guide_chr&#x27;, &#x27;guide_end&#x27;, &#x27;guide_start&#x27;, &#x27;guide_number&#x27;, &#x27;target_elements&#x27;\n",
              "      var:\t&#x27;feature_name&#x27;, &#x27;n_cells&#x27;, &#x27;transcript_chr&#x27;, &#x27;transcript_start&#x27;, &#x27;transcript_end&#x27;, &#x27;ensg&#x27;\n",
              "      layers:\t&#x27;adj_pvalue&#x27;, &#x27;log_fold_change&#x27;, &#x27;significant&#x27;, &#x27;z_value&#x27;\n",
              "    result_elements:\t41 x 542\n",
              "      obs:\t&#x27;element&#x27;, &#x27;element_chr&#x27;, &#x27;element_start&#x27;, &#x27;element_end&#x27;\n",
              "      var:\t&#x27;feature_name&#x27;, &#x27;n_cells&#x27;, &#x27;transcript_chr&#x27;, &#x27;transcript_start&#x27;, &#x27;transcript_end&#x27;, &#x27;ensg&#x27;\n",
              "      layers:\t&#x27;sig_not_adj&#x27;</pre>"
            ],
            "text/plain": [
              "MuData object with n_obs × n_vars = 5218 × 17212\n",
              "  4 modalities\n",
              "    guides:\t5109 x 98\n",
              "      obs:\t'bath_number', 'percent_mito', 'log_number_of_detected_genes', 'log_total_gene_count', 'log_total_guide_count'\n",
              "      var:\t'feature_name', 'guide_chr', 'guide_end', 'guide_start', 'guide_number', 'target_elements'\n",
              "    scRNA:\t5109 x 16030\n",
              "      obs:\t'bath_number', 'percent_mito', 'log_number_of_detected_genes', 'log_total_gene_count', 'log_total_guide_count'\n",
              "      var:\t'feature_name', 'n_cells', 'transcript_chr', 'transcript_start', 'transcript_end', 'ensg'\n",
              "    result_guides:\t68 x 542\n",
              "      obs:\t'feature_name', 'guide_chr', 'guide_end', 'guide_start', 'guide_number', 'target_elements'\n",
              "      var:\t'feature_name', 'n_cells', 'transcript_chr', 'transcript_start', 'transcript_end', 'ensg'\n",
              "      layers:\t'adj_pvalue', 'log_fold_change', 'significant', 'z_value'\n",
              "    result_elements:\t41 x 542\n",
              "      obs:\t'element', 'element_chr', 'element_start', 'element_end'\n",
              "      var:\t'feature_name', 'n_cells', 'transcript_chr', 'transcript_start', 'transcript_end', 'ensg'\n",
              "      layers:\t'sig_not_adj'"
            ]
          },
          "execution_count": 65,
          "metadata": {},
          "output_type": "execute_result"
        }
      ],
      "source": [
        "mu_results"
      ]
    },
    {
      "cell_type": "code",
      "source": [
        "mu_results['result_guides'].var.head(5)"
      ],
      "metadata": {
        "id": "rkdCNn0QcFTe"
      },
      "id": "rkdCNn0QcFTe",
      "execution_count": null,
      "outputs": []
    },
    {
      "cell_type": "code",
      "execution_count": null,
      "id": "f337fa9a-25fe-4f0f-a73c-542b00d19c16",
      "metadata": {
        "jupyter": {
          "outputs_hidden": true
        },
        "tags": [],
        "id": "f337fa9a-25fe-4f0f-a73c-542b00d19c16",
        "outputId": "3be87c59-2994-433a-a5b7-42e51003e8c2"
      },
      "outputs": [
        {
          "data": {
            "text/html": [
              "<div>\n",
              "<style scoped>\n",
              "    .dataframe tbody tr th:only-of-type {\n",
              "        vertical-align: middle;\n",
              "    }\n",
              "\n",
              "    .dataframe tbody tr th {\n",
              "        vertical-align: top;\n",
              "    }\n",
              "\n",
              "    .dataframe thead th {\n",
              "        text-align: right;\n",
              "    }\n",
              "</style>\n",
              "<table border=\"1\" class=\"dataframe\">\n",
              "  <thead>\n",
              "    <tr style=\"text-align: right;\">\n",
              "      <th></th>\n",
              "      <th>feature_name</th>\n",
              "      <th>guide_chr</th>\n",
              "      <th>guide_end</th>\n",
              "      <th>guide_start</th>\n",
              "      <th>guide_number</th>\n",
              "      <th>target_elements</th>\n",
              "    </tr>\n",
              "  </thead>\n",
              "  <tbody>\n",
              "    <tr>\n",
              "      <th>NEK2|1_sgrna_chr1:211675539:211675559</th>\n",
              "      <td>NEK2|1_sgrna_chr1:211675539:211675559</td>\n",
              "      <td>chr1</td>\n",
              "      <td>211675559</td>\n",
              "      <td>211675539</td>\n",
              "      <td>1</td>\n",
              "      <td>NEK2</td>\n",
              "    </tr>\n",
              "    <tr>\n",
              "      <th>GATA2|2_sgrna_chr3:128493132:128493152</th>\n",
              "      <td>GATA2|2_sgrna_chr3:128493132:128493152</td>\n",
              "      <td>chr3</td>\n",
              "      <td>128493152</td>\n",
              "      <td>128493132</td>\n",
              "      <td>2</td>\n",
              "      <td>GATA2</td>\n",
              "    </tr>\n",
              "    <tr>\n",
              "      <th>CHRAC1|2_sgrna_chr8:140511379:140511399</th>\n",
              "      <td>CHRAC1|2_sgrna_chr8:140511379:140511399</td>\n",
              "      <td>chr8</td>\n",
              "      <td>140511399</td>\n",
              "      <td>140511379</td>\n",
              "      <td>2</td>\n",
              "      <td>CHRAC1</td>\n",
              "    </tr>\n",
              "    <tr>\n",
              "      <th>EIF4EBP1|1_sgrna_chr8:38030533:38030553</th>\n",
              "      <td>EIF4EBP1|1_sgrna_chr8:38030533:38030553</td>\n",
              "      <td>chr8</td>\n",
              "      <td>38030553</td>\n",
              "      <td>38030533</td>\n",
              "      <td>1</td>\n",
              "      <td>EIF4EBP1</td>\n",
              "    </tr>\n",
              "    <tr>\n",
              "      <th>CITED2|2_sgrna_chr6:139374602:139374622</th>\n",
              "      <td>CITED2|2_sgrna_chr6:139374602:139374622</td>\n",
              "      <td>chr6</td>\n",
              "      <td>139374622</td>\n",
              "      <td>139374602</td>\n",
              "      <td>2</td>\n",
              "      <td>CITED2</td>\n",
              "    </tr>\n",
              "  </tbody>\n",
              "</table>\n",
              "</div>"
            ],
            "text/plain": [
              "                                                                    feature_name  \\\n",
              "NEK2|1_sgrna_chr1:211675539:211675559      NEK2|1_sgrna_chr1:211675539:211675559   \n",
              "GATA2|2_sgrna_chr3:128493132:128493152    GATA2|2_sgrna_chr3:128493132:128493152   \n",
              "CHRAC1|2_sgrna_chr8:140511379:140511399  CHRAC1|2_sgrna_chr8:140511379:140511399   \n",
              "EIF4EBP1|1_sgrna_chr8:38030533:38030553  EIF4EBP1|1_sgrna_chr8:38030533:38030553   \n",
              "CITED2|2_sgrna_chr6:139374602:139374622  CITED2|2_sgrna_chr6:139374602:139374622   \n",
              "\n",
              "                                        guide_chr  guide_end guide_start  \\\n",
              "NEK2|1_sgrna_chr1:211675539:211675559        chr1  211675559   211675539   \n",
              "GATA2|2_sgrna_chr3:128493132:128493152       chr3  128493152   128493132   \n",
              "CHRAC1|2_sgrna_chr8:140511379:140511399      chr8  140511399   140511379   \n",
              "EIF4EBP1|1_sgrna_chr8:38030533:38030553      chr8   38030553    38030533   \n",
              "CITED2|2_sgrna_chr6:139374602:139374622      chr6  139374622   139374602   \n",
              "\n",
              "                                        guide_number target_elements  \n",
              "NEK2|1_sgrna_chr1:211675539:211675559              1            NEK2  \n",
              "GATA2|2_sgrna_chr3:128493132:128493152             2           GATA2  \n",
              "CHRAC1|2_sgrna_chr8:140511379:140511399            2          CHRAC1  \n",
              "EIF4EBP1|1_sgrna_chr8:38030533:38030553            1        EIF4EBP1  \n",
              "CITED2|2_sgrna_chr6:139374602:139374622            2          CITED2  "
            ]
          },
          "execution_count": 69,
          "metadata": {},
          "output_type": "execute_result"
        }
      ],
      "source": [
        "mu_results['result_guides'].obs.head(5)"
      ]
    },
    {
      "cell_type": "code",
      "execution_count": null,
      "id": "38f806ba-16e5-4d69-8ea2-811d92531be3",
      "metadata": {
        "jupyter": {
          "outputs_hidden": true
        },
        "tags": [],
        "id": "38f806ba-16e5-4d69-8ea2-811d92531be3",
        "outputId": "a29b6389-238c-454a-c289-d2c1553464cf"
      },
      "outputs": [
        {
          "data": {
            "text/plain": [
              "array([[      nan,       nan,       nan, ...,       nan,       nan,\n",
              "              nan],\n",
              "       [      nan,       nan,       nan, ...,       nan,       nan,\n",
              "              nan],\n",
              "       [      nan,       nan,       nan, ...,       nan,       nan,\n",
              "              nan],\n",
              "       ...,\n",
              "       [      nan,       nan,       nan, ...,       nan,       nan,\n",
              "              nan],\n",
              "       [      nan,       nan,       nan, ...,       nan,       nan,\n",
              "              nan],\n",
              "       [      nan, 0.0495082,       nan, ...,       nan,       nan,\n",
              "              nan]], dtype=float32)"
            ]
          },
          "execution_count": 70,
          "metadata": {},
          "output_type": "execute_result"
        }
      ],
      "source": [
        "mu_results['result_guides'].X  #P_value"
      ]
    },
    {
      "cell_type": "code",
      "execution_count": null,
      "id": "4fbb5b58-f4e2-44cb-a860-6c9806758c18",
      "metadata": {
        "collapsed": true,
        "jupyter": {
          "outputs_hidden": true
        },
        "tags": [],
        "id": "4fbb5b58-f4e2-44cb-a860-6c9806758c18",
        "outputId": "6f92cb01-d6cc-4cee-a111-fcef41604f65"
      },
      "outputs": [
        {
          "data": {
            "text/plain": [
              "array([[       nan,        nan,        nan, ...,        nan,        nan,\n",
              "               nan],\n",
              "       [       nan,        nan,        nan, ...,        nan,        nan,\n",
              "               nan],\n",
              "       [       nan,        nan,        nan, ...,        nan,        nan,\n",
              "               nan],\n",
              "       ...,\n",
              "       [       nan,        nan,        nan, ...,        nan,        nan,\n",
              "               nan],\n",
              "       [       nan,        nan,        nan, ...,        nan,        nan,\n",
              "               nan],\n",
              "       [       nan, 0.43963488,        nan, ...,        nan,        nan,\n",
              "               nan]])"
            ]
          },
          "execution_count": 71,
          "metadata": {},
          "output_type": "execute_result"
        }
      ],
      "source": [
        "mu_results['result_guides'].layers['adj_pvalue'] #layers:  'adj_pvalue', 'log_fold_change', 'significant', 'z_value'"
      ]
    },
    {
      "cell_type": "code",
      "execution_count": null,
      "id": "e30d541b-d844-4865-a0a4-4f686fc498c7",
      "metadata": {
        "collapsed": true,
        "jupyter": {
          "outputs_hidden": true
        },
        "tags": [],
        "id": "e30d541b-d844-4865-a0a4-4f686fc498c7",
        "outputId": "8c20aafb-11e8-4ade-fa31-bc4e0c90aa3f"
      },
      "outputs": [
        {
          "data": {
            "text/plain": [
              "Index(['NEK2|1_sgrna_chr1:211675539:211675559',\n",
              "       'GATA2|2_sgrna_chr3:128493132:128493152',\n",
              "       'CHRAC1|2_sgrna_chr8:140511379:140511399',\n",
              "       'EIF4EBP1|1_sgrna_chr8:38030533:38030553',\n",
              "       'CITED2|2_sgrna_chr6:139374602:139374622',\n",
              "       'EIF4EBP1|2_sgrna_chr8:38030562:38030582',\n",
              "       'TMEM242|2_sgrna_chr6:157323474:157323494',\n",
              "       'EBPL|2_sgrna_chr13:49691421:49691441',\n",
              "       'DECR1|1_sgrna_chr8:90001828:90001848',\n",
              "       'GYPC|1_sgrna_chr2:126656357:126656377',\n",
              "       'PLEKHJ1|1_sgrna_chr19:2235806:2235826',\n",
              "       'TMEM167A|1_sgrna_chr5:83077342:83077362',\n",
              "       'SMARCC1|1_sgrna_chr3:47781807:47781827',\n",
              "       'FECH|2_sgrna_chr18:57586670:57586690',\n",
              "       'SRRM1|1_sgrna_chr1:24643273:24643293',\n",
              "       'PPID|1_sgrna_chr4:158723322:158723342',\n",
              "       'LMO2|2_sgrna_chr11:33869816:33869836',\n",
              "       'SEPT11|2_sgrna_chr4:76949797:76949817',\n",
              "       'SLC25A4|2_sgrna_chr4:185143317:185143337',\n",
              "       'NDUFB7|1_sgrna_chr19:14571971:14571991',\n",
              "       'EBPL|1_sgrna_chr13:49691471:49691491',\n",
              "       'ITGB1BP1|1_sgrna_chr2:9423121:9423141',\n",
              "       'CCND2|2_sgrna_chr12:4273832:4273852',\n",
              "       'PSMG2|2_sgrna_chr18:12703055:12703075',\n",
              "       'UBE2T|2_sgrna_chr1:202341907:202341927',\n",
              "       'MRPS36|2_sgrna_chr5:69217803:69217823',\n",
              "       'ST13|2_sgrna_chr22:40856402:40856422',\n",
              "       'FAM83A|1_sgrna_chr8:123182735:123182755',\n",
              "       'PPID|2_sgrna_chr4:158723042:158723062',\n",
              "       'PLEKHJ1|2_sgrna_chr19:2236252:2236272',\n",
              "       'ST13|1_sgrna_chr22:40856549:40856569',\n",
              "       'UAP1|2_sgrna_chr1:162561996:162562016',\n",
              "       'SRRM1|2_sgrna_chr1:24643689:24643709',\n",
              "       'UBE2T|1_sgrna_chr1:202341918:202341938',\n",
              "       'MAN1A1|2_sgrna_chr6:119349664:119349684',\n",
              "       'PCBD1|2_sgrna_chr10:70888519:70888539',\n",
              "       'GYPC|2_sgrna_chr2:126656401:126656421',\n",
              "       'ITGB1BP1|2_sgrna_chr2:9423489:9423509',\n",
              "       'MRPS36|1_sgrna_chr5:69217768:69217788',\n",
              "       'LRIF1|1_sgrna_chr1:110963831:110963851',\n",
              "       'TMEM242|1_sgrna_chr6:157323255:157323275',\n",
              "       'LRIF1|2_sgrna_chr1:110963860:110963880',\n",
              "       'RWDD1|1_sgrna_chr6:116571505:116571525',\n",
              "       'SLC25A4|1_sgrna_chr4:185143301:185143321',\n",
              "       'TSPO|1_sgrna_chr22:43151578:43151598',\n",
              "       'CITED2|1_sgrna_chr6:139374591:139374611',\n",
              "       'PPP1R11|1_sgrna_chr6:30067207:30067227',\n",
              "       'CEBPB|1_sgrna_chr20:50190830:50190850',\n",
              "       'NDUFB7|2_sgrna_chr19:14572015:14572035',\n",
              "       'LAMTOR1|2_sgrna_chr11:72103221:72103241',\n",
              "       'JAGN1|1_sgrna_chr3:9890627:9890647',\n",
              "       'JAGN1|2_sgrna_chr3:9890635:9890655',\n",
              "       'ODC1|1_sgrna_chr2:10447886:10447906',\n",
              "       'FAM83A|2_sgrna_chr8:123182767:123182787',\n",
              "       'NEK2|2_sgrna_chr1:211675615:211675635',\n",
              "       'TMEM167A|2_sgrna_chr5:83077397:83077417',\n",
              "       'ODC1|2_sgrna_chr2:10448299:10448319',\n",
              "       'FECH|1_sgrna_chr18:57586627:57586647',\n",
              "       'SEPT11|1_sgrna_chr4:76949786:76949806',\n",
              "       'BROX|2_sgrna_chr1:222712744:222712764',\n",
              "       'MAN1A1|1_sgrna_chr6:119349535:119349555',\n",
              "       'COMT|1_sgrna_chr22:19941800:19941820',\n",
              "       'PCBD1|1_sgrna_chr10:70888545:70888565',\n",
              "       'PSMG2|1_sgrna_chr18:12703241:12703261',\n",
              "       'CEBPB|2_sgrna_chr20:50190891:50190911',\n",
              "       'SPCS2|1_sgrna_chr11:74949240:74949260',\n",
              "       'TSPO|2_sgrna_chr22:43151594:43151614',\n",
              "       'HNRNPA1|2_sgrna_chr12:54281167:54281187'],\n",
              "      dtype='object')"
            ]
          },
          "execution_count": 67,
          "metadata": {},
          "output_type": "execute_result"
        }
      ],
      "source": [
        "mu_results['result_guides'].obs.index"
      ]
    },
    {
      "cell_type": "code",
      "execution_count": null,
      "id": "9e46bff9-6671-4d23-ab1c-c821f6538f94",
      "metadata": {
        "tags": [],
        "id": "9e46bff9-6671-4d23-ab1c-c821f6538f94",
        "outputId": "93acaf80-972e-423f-bf59-eb772ee8fdf4"
      },
      "outputs": [
        {
          "data": {
            "text/plain": [
              "ArrayView([[0.00144838]], dtype=float32)"
            ]
          },
          "execution_count": 61,
          "metadata": {},
          "output_type": "execute_result"
        }
      ],
      "source": [
        "mu_results['result_guides']['ODC1|1_sgrna_chr2:10447886:10447906',['ODC1']].X   # differential pertubation guidete ODC1_guide 1 and gene ODC1"
      ]
    },
    {
      "cell_type": "code",
      "execution_count": null,
      "id": "7e4f992c-88f4-4d55-9910-d1704fbae372",
      "metadata": {
        "tags": [],
        "id": "7e4f992c-88f4-4d55-9910-d1704fbae372",
        "outputId": "2eb2ba40-c0fd-4169-8b00-38349d8592d6"
      },
      "outputs": [
        {
          "data": {
            "text/plain": [
              "ArrayView([[       nan,        nan,        nan,        nan,        nan,\n",
              "                   nan,        nan,        nan,        nan,        nan,\n",
              "                   nan,        nan,        nan,        nan,        nan,\n",
              "                   nan,        nan,        nan,        nan,        nan,\n",
              "                   nan,        nan,        nan,        nan,        nan,\n",
              "                   nan,        nan,        nan,        nan,        nan,\n",
              "                   nan,        nan,        nan,        nan,        nan,\n",
              "                   nan,        nan,        nan,        nan,        nan,\n",
              "                   nan,        nan,        nan,        nan,        nan,\n",
              "                   nan,        nan,        nan,        nan,        nan,\n",
              "                   nan,        nan,        nan,        nan,        nan,\n",
              "                   nan,        nan, 0.50373757,        nan,        nan,\n",
              "                   nan,        nan,        nan,        nan,        nan,\n",
              "                   nan,        nan,        nan,        nan,        nan,\n",
              "                   nan,        nan,        nan,        nan, 0.33784518,\n",
              "            0.81020576,        nan,        nan,        nan,        nan,\n",
              "                   nan,        nan,        nan,        nan,        nan,\n",
              "                   nan,        nan,        nan,        nan,        nan,\n",
              "                   nan,        nan,        nan,        nan,        nan,\n",
              "                   nan,        nan,        nan,        nan,        nan,\n",
              "                   nan,        nan,        nan,        nan,        nan,\n",
              "                   nan,        nan,        nan,        nan,        nan,\n",
              "                   nan,        nan,        nan,        nan,        nan,\n",
              "                   nan,        nan,        nan,        nan,        nan,\n",
              "                   nan,        nan,        nan,        nan,        nan,\n",
              "                   nan,        nan,        nan,        nan,        nan,\n",
              "                   nan,        nan,        nan,        nan,        nan,\n",
              "                   nan,        nan,        nan,        nan,        nan,\n",
              "                   nan,        nan,        nan,        nan,        nan,\n",
              "                   nan,        nan,        nan,        nan,        nan,\n",
              "                   nan,        nan,        nan,        nan,        nan,\n",
              "                   nan,        nan, 0.67675006,        nan,        nan,\n",
              "                   nan,        nan,        nan,        nan,        nan,\n",
              "                   nan,        nan,        nan,        nan,        nan,\n",
              "                   nan,        nan,        nan,        nan,        nan,\n",
              "                   nan,        nan,        nan,        nan,        nan,\n",
              "                   nan,        nan,        nan,        nan,        nan,\n",
              "                   nan,        nan,        nan,        nan,        nan,\n",
              "                   nan,        nan,        nan,        nan,        nan,\n",
              "                   nan,        nan,        nan,        nan,        nan,\n",
              "                   nan,        nan,        nan,        nan,        nan,\n",
              "                   nan,        nan,        nan,        nan,        nan,\n",
              "                   nan,        nan,        nan,        nan,        nan,\n",
              "                   nan,        nan,        nan,        nan,        nan,\n",
              "                   nan,        nan,        nan,        nan,        nan,\n",
              "                   nan,        nan,        nan,        nan,        nan,\n",
              "                   nan,        nan,        nan,        nan,        nan,\n",
              "                   nan,        nan,        nan,        nan,        nan,\n",
              "                   nan,        nan,        nan,        nan,        nan,\n",
              "                   nan,        nan,        nan,        nan,        nan,\n",
              "                   nan,        nan,        nan,        nan, 0.06693307,\n",
              "                   nan, 0.51516527,        nan,        nan,        nan,\n",
              "                   nan,        nan,        nan,        nan,        nan,\n",
              "                   nan,        nan,        nan,        nan,        nan,\n",
              "                   nan,        nan,        nan,        nan,        nan,\n",
              "                   nan,        nan,        nan,        nan,        nan,\n",
              "                   nan,        nan,        nan,        nan,        nan,\n",
              "                   nan,        nan,        nan,        nan,        nan,\n",
              "                   nan,        nan,        nan,        nan,        nan,\n",
              "                   nan,        nan,        nan,        nan,        nan,\n",
              "                   nan,        nan,        nan,        nan,        nan,\n",
              "                   nan,        nan,        nan,        nan,        nan,\n",
              "                   nan,        nan,        nan,        nan,        nan,\n",
              "                   nan,        nan,        nan,        nan,        nan,\n",
              "                   nan,        nan, 0.7162988 ,        nan,        nan,\n",
              "                   nan,        nan,        nan,        nan,        nan,\n",
              "                   nan,        nan,        nan,        nan,        nan,\n",
              "                   nan, 0.43097454,        nan,        nan,        nan,\n",
              "                   nan,        nan,        nan,        nan,        nan,\n",
              "                   nan,        nan,        nan,        nan,        nan,\n",
              "                   nan,        nan,        nan,        nan,        nan,\n",
              "                   nan,        nan,        nan,        nan,        nan,\n",
              "                   nan,        nan,        nan,        nan,        nan,\n",
              "                   nan,        nan,        nan,        nan,        nan,\n",
              "                   nan,        nan,        nan,        nan,        nan,\n",
              "                   nan,        nan,        nan,        nan,        nan,\n",
              "                   nan,        nan,        nan,        nan,        nan,\n",
              "                   nan,        nan,        nan,        nan,        nan,\n",
              "                   nan,        nan,        nan,        nan,        nan,\n",
              "                   nan,        nan,        nan,        nan, 0.5509981 ,\n",
              "                   nan,        nan,        nan,        nan,        nan,\n",
              "                   nan,        nan,        nan,        nan,        nan,\n",
              "                   nan,        nan,        nan,        nan,        nan,\n",
              "                   nan,        nan,        nan,        nan,        nan,\n",
              "                   nan,        nan,        nan,        nan,        nan,\n",
              "                   nan,        nan,        nan,        nan,        nan,\n",
              "                   nan,        nan,        nan,        nan,        nan,\n",
              "                   nan,        nan,        nan,        nan,        nan,\n",
              "                   nan,        nan,        nan,        nan,        nan,\n",
              "                   nan,        nan,        nan, 0.749738  ,        nan,\n",
              "                   nan,        nan,        nan,        nan,        nan,\n",
              "                   nan,        nan, 0.21935642,        nan,        nan,\n",
              "                   nan,        nan,        nan,        nan,        nan,\n",
              "                   nan,        nan,        nan,        nan,        nan,\n",
              "                   nan,        nan,        nan,        nan,        nan,\n",
              "                   nan,        nan,        nan, 0.20981038,        nan,\n",
              "                   nan,        nan,        nan,        nan,        nan,\n",
              "                   nan,        nan,        nan,        nan,        nan,\n",
              "                   nan,        nan,        nan,        nan,        nan,\n",
              "                   nan,        nan,        nan,        nan,        nan,\n",
              "                   nan,        nan,        nan,        nan,        nan,\n",
              "                   nan,        nan,        nan,        nan,        nan,\n",
              "                   nan,        nan,        nan,        nan,        nan,\n",
              "                   nan,        nan,        nan,        nan,        nan,\n",
              "                   nan,        nan,        nan,        nan,        nan,\n",
              "                   nan,        nan,        nan,        nan,        nan,\n",
              "                   nan,        nan,        nan, 0.00144838,        nan,\n",
              "                   nan,        nan,        nan,        nan,        nan,\n",
              "                   nan,        nan]], dtype=float32)"
            ]
          },
          "execution_count": 68,
          "metadata": {},
          "output_type": "execute_result"
        }
      ],
      "source": [
        "mu_results['result_guides']['ODC1|1_sgrna_chr2:10447886:10447906',].X  # all genes tested in cis"
      ]
    },
    {
      "cell_type": "code",
      "execution_count": null,
      "id": "cb863f82-710f-47cc-a706-c64e312ee305",
      "metadata": {
        "id": "cb863f82-710f-47cc-a706-c64e312ee305"
      },
      "outputs": [],
      "source": []
    }
  ],
  "metadata": {
    "kernelspec": {
      "display_name": "Python 3 (ipykernel)",
      "language": "python",
      "name": "python3"
    },
    "language_info": {
      "codemirror_mode": {
        "name": "ipython",
        "version": 3
      },
      "file_extension": ".py",
      "mimetype": "text/x-python",
      "name": "python",
      "nbconvert_exporter": "python",
      "pygments_lexer": "ipython3",
      "version": "3.10.10"
    },
    "colab": {
      "provenance": []
    }
  },
  "nbformat": 4,
  "nbformat_minor": 5
}