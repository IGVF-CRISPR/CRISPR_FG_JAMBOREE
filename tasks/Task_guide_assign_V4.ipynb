{
 "cells": [
  {
   "cell_type": "markdown",
   "id": "5700ab53-5994-4055-a583-0015e1b6e7f7",
   "metadata": {
    "id": "5700ab53-5994-4055-a583-0015e1b6e7f7"
   },
   "source": [
    "# Task cell guide assign \n",
    "## Adding a method to assign cell guides to cell \n",
    "---\n",
    "## Relevance:\n",
    "Cells can have different sequencomg depht and suffer for another different covariate effects. We want to be able to take in consideration these fluctuations and assign cell guides to cells using some statistical method.\n",
    "\n",
    "## Practical description:\n",
    "- [x]  Create a “assign_guides” process  \n",
    "- [ ] Use the Mudata (\"mudata_results.h5mu\") to capture the raw guide counts and the  cells covariates   \n",
    "- [ ] Generate a binarized version of the counts matrix (0,1) \n",
    "- [ ] Add this the new matrix as a new mudata Layer ['binaryzed']\n",
    "- [ ] Save the new Mudata"
   ]
  },
  {
   "cell_type": "code",
   "execution_count": 31,
   "id": "f0fa16d6-40d0-4194-9120-f576f14c778a",
   "metadata": {
    "id": "f0fa16d6-40d0-4194-9120-f576f14c778a",
    "outputId": "0bb596e4-4b17-41e2-db50-1c32c7477dc1",
    "tags": []
   },
   "outputs": [
    {
     "name": "stdout",
     "output_type": "stream",
     "text": [
      "/home/jovyan\n"
     ]
    }
   ],
   "source": [
    "!pwd"
   ]
  },
  {
   "cell_type": "code",
   "execution_count": 11,
   "id": "f63623a3-3557-45d4-a4a0-f9c947d9b2ad",
   "metadata": {
    "id": "f63623a3-3557-45d4-a4a0-f9c947d9b2ad",
    "outputId": "3756b385-885b-4d20-b52b-57485b2ed9ad",
    "tags": []
   },
   "outputs": [
    {
     "name": "stdout",
     "output_type": "stream",
     "text": [
      "Overwriting guide_assign.nf\n"
     ]
    }
   ],
   "source": [
    "%%writefile guide_assign.nf\n",
    "nextflow.enable.dsl=2\n",
    "params.MUDATA_INPUT = '/mnt/shared/gasperini_test_01/93/bc121425eff99125ff0ca316ceb0e7/raw_mudata_guide_and_transcripts.h5mu'  \n",
    "\n",
    "process assign_guides {\n",
    "    //execute the command to create this  env in the last cell block (\"Install your Enviroment\")\n",
    "    conda '/home/jovyan/.conda/envs/hon_scanpy'\n",
    "    \n",
    "    debug true\n",
    "    input:\n",
    "    path mudata  \n",
    "    output:\n",
    "    path 'mu_with_binary.h5mu', emit : mu_with_binary  \n",
    "    script:\n",
    "    \"\"\"\n",
    "    chmod 700 /home/jovyan/assign_guide.py\n",
    "    /home/jovyan/assign_guide.py ${mudata}\n",
    "    \"\"\"\n",
    "    \n",
    "}\n",
    "\n",
    "workflow {\n",
    "    \n",
    "    assign_mu = assign_guides(params.MUDATA_INPUT)\n",
    "\n",
    "\n",
    "}"
   ]
  },
  {
   "cell_type": "code",
   "execution_count": 12,
   "id": "f694abfe-0d7a-4d1b-aea2-b36a1fda312e",
   "metadata": {
    "id": "f694abfe-0d7a-4d1b-aea2-b36a1fda312e",
    "outputId": "847fac11-2909-468c-9c42-a67f1633d7f6",
    "tags": []
   },
   "outputs": [
    {
     "name": "stdout",
     "output_type": "stream",
     "text": [
      "/home/jovyan\n"
     ]
    }
   ],
   "source": [
    "!pwd"
   ]
  },
  {
   "cell_type": "code",
   "execution_count": 13,
   "id": "7ee09b30-703c-45f0-b2ab-55798227d551",
   "metadata": {
    "id": "7ee09b30-703c-45f0-b2ab-55798227d551",
    "outputId": "0018d72f-20f8-4c35-d481-a63e87730de5",
    "tags": []
   },
   "outputs": [
    {
     "name": "stdout",
     "output_type": "stream",
     "text": [
      "Overwriting assign_guide.py\n"
     ]
    }
   ],
   "source": [
    "%%writefile assign_guide.py\n",
    "#!/usr/bin/env python\n",
    "\n",
    "import sys\n",
    "import mudata as md\n",
    "print ('-----')\n",
    "print (sys.argv[1])\n",
    "\n",
    "mudata = md.read(sys.argv[1])\n",
    "\n",
    "\n",
    "\n",
    "print(mudata['guides'])\n",
    "print(mudata['scRNA'])\n",
    "\n",
    "\n",
    "#code to access the mudata['guide'] and binarize the matrix using your tool\n",
    "\n",
    "\n",
    "#mudata.layers['binarized'] = your binarized matrix with same dimensions\n",
    "\n",
    "\n",
    "mudata.write('mu_with_binary.h5mu')"
   ]
  },
  {
   "cell_type": "code",
   "execution_count": 14,
   "id": "936c5c78-6540-4874-86ac-75d896a782db",
   "metadata": {
    "id": "936c5c78-6540-4874-86ac-75d896a782db",
    "outputId": "ebe40f8d-e6f5-47b0-e837-f19c242e865a",
    "tags": []
   },
   "outputs": [
    {
     "name": "stdout",
     "output_type": "stream",
     "text": [
      "N E X T F L O W  ~  version 22.10.6\n",
      "Launching `guide_assign.nf` [festering_pesquet] DSL2 - revision: 139f216f7c\n",
      "[-        ] process > assign_guides -\u001b[K\n",
      "\u001b[2A\n",
      "executor >  local (1)\u001b[K\n",
      "[4a/653ff8] process > assign_guides [  0%] 0 of 1\u001b[K\n",
      "\u001b[3A\n",
      "executor >  local (1)\u001b[K\n",
      "[4a/653ff8] process > assign_guides [  0%] 0 of 1\u001b[K\n",
      "\u001b[3A\n",
      "executor >  local (1)\u001b[K\n",
      "[4a/653ff8] process > assign_guides [100%] 1 of 1 ✔\u001b[K\n",
      "-----\u001b[K\n",
      "raw_mudata_guide_and_transcripts.h5mu\u001b[K\n",
      "AnnData object with n_obs × n_vars = 5109 × 98\u001b[K\n",
      "    obs: 'number_of_nonzero_guides', 'batch_number'\u001b[K\n",
      "    var: 'feature_name', 'guide_chr', 'guide_end', 'guide_start', 'guide_number', 'target_elements'\u001b[K\n",
      "AnnData object with n_obs × n_vars = 5109 × 16094\u001b[K\n",
      "    obs: 'n_genes', 'n_counts', 'percent_mito', 'doublet_scores', 'predicted_doublets', 'doublet_info', 'batch_number'\u001b[K\n",
      "    var: 'feature_name', 'n_cells', 'transcript_chr', 'transcript_start', 'transcript_end'\u001b[K\n",
      "\u001b[K\n",
      "\n"
     ]
    }
   ],
   "source": [
    "!nextflow run guide_assign.nf -w guide_assing_test  -with-conda  \n",
    "# use -with-conda true        case using a custom conda enviroment\n"
   ]
  },
  {
   "cell_type": "code",
   "execution_count": null,
   "id": "OqY3lZiEj5Eo",
   "metadata": {
    "id": "OqY3lZiEj5Eo"
   },
   "outputs": [],
   "source": []
  },
  {
   "cell_type": "markdown",
   "id": "jLlzwM44j6jT",
   "metadata": {
    "id": "jLlzwM44j6jT"
   },
   "source": [
    "# Sandbox\n",
    "This field contains some of the comands needed to acces the MuData  \n",
    "Please check: Mudata and Anndata documentation  \n",
    "obs: objects inside Mudata ex: mdata['guides'] is an anndata object  "
   ]
  },
  {
   "cell_type": "code",
   "execution_count": 22,
   "id": "5e696ff9-dada-47f9-8777-71616c97bb7a",
   "metadata": {
    "id": "5e696ff9-dada-47f9-8777-71616c97bb7a",
    "tags": []
   },
   "outputs": [],
   "source": [
    "import mudata as md"
   ]
  },
  {
   "cell_type": "code",
   "execution_count": 23,
   "id": "2Vr0VJRZkIOk",
   "metadata": {
    "id": "2Vr0VJRZkIOk",
    "tags": []
   },
   "outputs": [],
   "source": [
    "mdata = md.read_h5mu(\"/mnt/shared/gasperini_test_01/93/bc121425eff99125ff0ca316ceb0e7/raw_mudata_guide_and_transcripts.h5mu\")"
   ]
  },
  {
   "cell_type": "code",
   "execution_count": 24,
   "id": "vnkXShY9kJMN",
   "metadata": {
    "id": "vnkXShY9kJMN",
    "tags": []
   },
   "outputs": [
    {
     "data": {
      "text/html": [
       "<pre>MuData object with n_obs × n_vars = 5109 × 16192\n",
       "  var:\t&#x27;feature_name&#x27;\n",
       "  2 modalities\n",
       "    guides:\t5109 x 98\n",
       "      obs:\t&#x27;number_of_nonzero_guides&#x27;, &#x27;batch_number&#x27;\n",
       "      var:\t&#x27;feature_name&#x27;, &#x27;guide_chr&#x27;, &#x27;guide_end&#x27;, &#x27;guide_start&#x27;, &#x27;guide_number&#x27;, &#x27;target_elements&#x27;\n",
       "    scRNA:\t5109 x 16094\n",
       "      obs:\t&#x27;n_genes&#x27;, &#x27;n_counts&#x27;, &#x27;percent_mito&#x27;, &#x27;doublet_scores&#x27;, &#x27;predicted_doublets&#x27;, &#x27;doublet_info&#x27;, &#x27;batch_number&#x27;\n",
       "      var:\t&#x27;feature_name&#x27;, &#x27;n_cells&#x27;, &#x27;transcript_chr&#x27;, &#x27;transcript_start&#x27;, &#x27;transcript_end&#x27;</pre>"
      ],
      "text/plain": [
       "MuData object with n_obs × n_vars = 5109 × 16192\n",
       "  var:\t'feature_name'\n",
       "  2 modalities\n",
       "    guides:\t5109 x 98\n",
       "      obs:\t'number_of_nonzero_guides', 'batch_number'\n",
       "      var:\t'feature_name', 'guide_chr', 'guide_end', 'guide_start', 'guide_number', 'target_elements'\n",
       "    scRNA:\t5109 x 16094\n",
       "      obs:\t'n_genes', 'n_counts', 'percent_mito', 'doublet_scores', 'predicted_doublets', 'doublet_info', 'batch_number'\n",
       "      var:\t'feature_name', 'n_cells', 'transcript_chr', 'transcript_start', 'transcript_end'"
      ]
     },
     "execution_count": 24,
     "metadata": {},
     "output_type": "execute_result"
    }
   ],
   "source": [
    "mdata"
   ]
  },
  {
   "cell_type": "code",
   "execution_count": 25,
   "id": "mSwTu7A5hOO0",
   "metadata": {
    "id": "mSwTu7A5hOO0",
    "tags": []
   },
   "outputs": [
    {
     "data": {
      "text/plain": [
       "<5109x98 sparse matrix of type '<class 'numpy.float32'>'\n",
       "\twith 20102 stored elements in Compressed Sparse Row format>"
      ]
     },
     "execution_count": 25,
     "metadata": {},
     "output_type": "execute_result"
    }
   ],
   "source": [
    "#capturing guides\n",
    "mdata['guides'].X"
   ]
  },
  {
   "cell_type": "code",
   "execution_count": 29,
   "id": "t3s6W_yikJ4Y",
   "metadata": {
    "id": "t3s6W_yikJ4Y",
    "tags": []
   },
   "outputs": [
    {
     "data": {
      "text/html": [
       "<div>\n",
       "<style scoped>\n",
       "    .dataframe tbody tr th:only-of-type {\n",
       "        vertical-align: middle;\n",
       "    }\n",
       "\n",
       "    .dataframe tbody tr th {\n",
       "        vertical-align: top;\n",
       "    }\n",
       "\n",
       "    .dataframe thead th {\n",
       "        text-align: right;\n",
       "    }\n",
       "</style>\n",
       "<table border=\"1\" class=\"dataframe\">\n",
       "  <thead>\n",
       "    <tr style=\"text-align: right;\">\n",
       "      <th></th>\n",
       "      <th>guides:guide_chr</th>\n",
       "      <th>guides:guide_end</th>\n",
       "      <th>guides:guide_start</th>\n",
       "      <th>guides:guide_number</th>\n",
       "      <th>guides:target_elements</th>\n",
       "      <th>scRNA:n_cells</th>\n",
       "      <th>scRNA:transcript_chr</th>\n",
       "      <th>scRNA:transcript_start</th>\n",
       "      <th>scRNA:transcript_end</th>\n",
       "      <th>feature_name</th>\n",
       "    </tr>\n",
       "  </thead>\n",
       "  <tbody>\n",
       "    <tr>\n",
       "      <th>BROX|1_sgrna_chr1:222712600:222712620</th>\n",
       "      <td>chr1</td>\n",
       "      <td>222712620</td>\n",
       "      <td>222712600</td>\n",
       "      <td>1</td>\n",
       "      <td>BROX</td>\n",
       "      <td>NaN</td>\n",
       "      <td>NaN</td>\n",
       "      <td>NaN</td>\n",
       "      <td>NaN</td>\n",
       "      <td>BROX|1_sgrna_chr1:222712600:222712620</td>\n",
       "    </tr>\n",
       "    <tr>\n",
       "      <th>BROX|2_sgrna_chr1:222712744:222712764</th>\n",
       "      <td>chr1</td>\n",
       "      <td>222712764</td>\n",
       "      <td>222712744</td>\n",
       "      <td>2</td>\n",
       "      <td>BROX</td>\n",
       "      <td>NaN</td>\n",
       "      <td>NaN</td>\n",
       "      <td>NaN</td>\n",
       "      <td>NaN</td>\n",
       "      <td>BROX|2_sgrna_chr1:222712744:222712764</td>\n",
       "    </tr>\n",
       "    <tr>\n",
       "      <th>CCND2|1_sgrna_chr12:4273763:4273783</th>\n",
       "      <td>chr12</td>\n",
       "      <td>4273783</td>\n",
       "      <td>4273763</td>\n",
       "      <td>1</td>\n",
       "      <td>CCND2</td>\n",
       "      <td>NaN</td>\n",
       "      <td>NaN</td>\n",
       "      <td>NaN</td>\n",
       "      <td>NaN</td>\n",
       "      <td>CCND2|1_sgrna_chr12:4273763:4273783</td>\n",
       "    </tr>\n",
       "    <tr>\n",
       "      <th>CCND2|2_sgrna_chr12:4273832:4273852</th>\n",
       "      <td>chr12</td>\n",
       "      <td>4273852</td>\n",
       "      <td>4273832</td>\n",
       "      <td>2</td>\n",
       "      <td>CCND2</td>\n",
       "      <td>NaN</td>\n",
       "      <td>NaN</td>\n",
       "      <td>NaN</td>\n",
       "      <td>NaN</td>\n",
       "      <td>CCND2|2_sgrna_chr12:4273832:4273852</td>\n",
       "    </tr>\n",
       "    <tr>\n",
       "      <th>CEBPB|1_sgrna_chr20:50190830:50190850</th>\n",
       "      <td>chr20</td>\n",
       "      <td>50190850</td>\n",
       "      <td>50190830</td>\n",
       "      <td>1</td>\n",
       "      <td>CEBPB</td>\n",
       "      <td>NaN</td>\n",
       "      <td>NaN</td>\n",
       "      <td>NaN</td>\n",
       "      <td>NaN</td>\n",
       "      <td>CEBPB|1_sgrna_chr20:50190830:50190850</td>\n",
       "    </tr>\n",
       "  </tbody>\n",
       "</table>\n",
       "</div>"
      ],
      "text/plain": [
       "                                      guides:guide_chr guides:guide_end  \\\n",
       "BROX|1_sgrna_chr1:222712600:222712620             chr1        222712620   \n",
       "BROX|2_sgrna_chr1:222712744:222712764             chr1        222712764   \n",
       "CCND2|1_sgrna_chr12:4273763:4273783              chr12          4273783   \n",
       "CCND2|2_sgrna_chr12:4273832:4273852              chr12          4273852   \n",
       "CEBPB|1_sgrna_chr20:50190830:50190850            chr20         50190850   \n",
       "\n",
       "                                      guides:guide_start guides:guide_number  \\\n",
       "BROX|1_sgrna_chr1:222712600:222712620          222712600                   1   \n",
       "BROX|2_sgrna_chr1:222712744:222712764          222712744                   2   \n",
       "CCND2|1_sgrna_chr12:4273763:4273783              4273763                   1   \n",
       "CCND2|2_sgrna_chr12:4273832:4273852              4273832                   2   \n",
       "CEBPB|1_sgrna_chr20:50190830:50190850           50190830                   1   \n",
       "\n",
       "                                      guides:target_elements  scRNA:n_cells  \\\n",
       "BROX|1_sgrna_chr1:222712600:222712620                   BROX            NaN   \n",
       "BROX|2_sgrna_chr1:222712744:222712764                   BROX            NaN   \n",
       "CCND2|1_sgrna_chr12:4273763:4273783                    CCND2            NaN   \n",
       "CCND2|2_sgrna_chr12:4273832:4273852                    CCND2            NaN   \n",
       "CEBPB|1_sgrna_chr20:50190830:50190850                  CEBPB            NaN   \n",
       "\n",
       "                                      scRNA:transcript_chr  \\\n",
       "BROX|1_sgrna_chr1:222712600:222712620                  NaN   \n",
       "BROX|2_sgrna_chr1:222712744:222712764                  NaN   \n",
       "CCND2|1_sgrna_chr12:4273763:4273783                    NaN   \n",
       "CCND2|2_sgrna_chr12:4273832:4273852                    NaN   \n",
       "CEBPB|1_sgrna_chr20:50190830:50190850                  NaN   \n",
       "\n",
       "                                       scRNA:transcript_start  \\\n",
       "BROX|1_sgrna_chr1:222712600:222712620                     NaN   \n",
       "BROX|2_sgrna_chr1:222712744:222712764                     NaN   \n",
       "CCND2|1_sgrna_chr12:4273763:4273783                       NaN   \n",
       "CCND2|2_sgrna_chr12:4273832:4273852                       NaN   \n",
       "CEBPB|1_sgrna_chr20:50190830:50190850                     NaN   \n",
       "\n",
       "                                       scRNA:transcript_end  \\\n",
       "BROX|1_sgrna_chr1:222712600:222712620                   NaN   \n",
       "BROX|2_sgrna_chr1:222712744:222712764                   NaN   \n",
       "CCND2|1_sgrna_chr12:4273763:4273783                     NaN   \n",
       "CCND2|2_sgrna_chr12:4273832:4273852                     NaN   \n",
       "CEBPB|1_sgrna_chr20:50190830:50190850                   NaN   \n",
       "\n",
       "                                                                feature_name  \n",
       "BROX|1_sgrna_chr1:222712600:222712620  BROX|1_sgrna_chr1:222712600:222712620  \n",
       "BROX|2_sgrna_chr1:222712744:222712764  BROX|2_sgrna_chr1:222712744:222712764  \n",
       "CCND2|1_sgrna_chr12:4273763:4273783      CCND2|1_sgrna_chr12:4273763:4273783  \n",
       "CCND2|2_sgrna_chr12:4273832:4273852      CCND2|2_sgrna_chr12:4273832:4273852  \n",
       "CEBPB|1_sgrna_chr20:50190830:50190850  CEBPB|1_sgrna_chr20:50190830:50190850  "
      ]
     },
     "execution_count": 29,
     "metadata": {},
     "output_type": "execute_result"
    }
   ],
   "source": [
    "mdata.var.head()   #showing vars"
   ]
  },
  {
   "cell_type": "code",
   "execution_count": 30,
   "id": "_eLE7u5Uhe0j",
   "metadata": {
    "id": "_eLE7u5Uhe0j",
    "tags": []
   },
   "outputs": [
    {
     "data": {
      "text/html": [
       "<div>\n",
       "<style scoped>\n",
       "    .dataframe tbody tr th:only-of-type {\n",
       "        vertical-align: middle;\n",
       "    }\n",
       "\n",
       "    .dataframe tbody tr th {\n",
       "        vertical-align: top;\n",
       "    }\n",
       "\n",
       "    .dataframe thead th {\n",
       "        text-align: right;\n",
       "    }\n",
       "</style>\n",
       "<table border=\"1\" class=\"dataframe\">\n",
       "  <thead>\n",
       "    <tr style=\"text-align: right;\">\n",
       "      <th></th>\n",
       "      <th>guides:number_of_nonzero_guides</th>\n",
       "      <th>guides:batch_number</th>\n",
       "      <th>scRNA:n_genes</th>\n",
       "      <th>scRNA:n_counts</th>\n",
       "      <th>scRNA:percent_mito</th>\n",
       "      <th>scRNA:doublet_scores</th>\n",
       "      <th>scRNA:predicted_doublets</th>\n",
       "      <th>scRNA:doublet_info</th>\n",
       "      <th>scRNA:batch_number</th>\n",
       "    </tr>\n",
       "    <tr>\n",
       "      <th>barcode</th>\n",
       "      <th></th>\n",
       "      <th></th>\n",
       "      <th></th>\n",
       "      <th></th>\n",
       "      <th></th>\n",
       "      <th></th>\n",
       "      <th></th>\n",
       "      <th></th>\n",
       "      <th></th>\n",
       "    </tr>\n",
       "  </thead>\n",
       "  <tbody>\n",
       "    <tr>\n",
       "      <th>AAACCTGAGAGGGCTT</th>\n",
       "      <td>1</td>\n",
       "      <td>1</td>\n",
       "      <td>248</td>\n",
       "      <td>325.0</td>\n",
       "      <td>0.000000</td>\n",
       "      <td>0.022133</td>\n",
       "      <td>False</td>\n",
       "      <td>False</td>\n",
       "      <td>1</td>\n",
       "    </tr>\n",
       "    <tr>\n",
       "      <th>AAACCTGCAAATACAG</th>\n",
       "      <td>2</td>\n",
       "      <td>1</td>\n",
       "      <td>3504</td>\n",
       "      <td>8941.0</td>\n",
       "      <td>0.022816</td>\n",
       "      <td>0.116685</td>\n",
       "      <td>False</td>\n",
       "      <td>False</td>\n",
       "      <td>1</td>\n",
       "    </tr>\n",
       "    <tr>\n",
       "      <th>AAACCTGCACTCGACG</th>\n",
       "      <td>2</td>\n",
       "      <td>1</td>\n",
       "      <td>2403</td>\n",
       "      <td>7169.0</td>\n",
       "      <td>0.051611</td>\n",
       "      <td>0.070968</td>\n",
       "      <td>False</td>\n",
       "      <td>False</td>\n",
       "      <td>1</td>\n",
       "    </tr>\n",
       "    <tr>\n",
       "      <th>AAACCTGCAGTCTTCC</th>\n",
       "      <td>3</td>\n",
       "      <td>1</td>\n",
       "      <td>2791</td>\n",
       "      <td>8174.0</td>\n",
       "      <td>0.053218</td>\n",
       "      <td>0.064220</td>\n",
       "      <td>False</td>\n",
       "      <td>False</td>\n",
       "      <td>1</td>\n",
       "    </tr>\n",
       "    <tr>\n",
       "      <th>AAACCTGCATGCCTAA</th>\n",
       "      <td>4</td>\n",
       "      <td>1</td>\n",
       "      <td>5072</td>\n",
       "      <td>23770.0</td>\n",
       "      <td>0.045982</td>\n",
       "      <td>0.142857</td>\n",
       "      <td>False</td>\n",
       "      <td>False</td>\n",
       "      <td>1</td>\n",
       "    </tr>\n",
       "  </tbody>\n",
       "</table>\n",
       "</div>"
      ],
      "text/plain": [
       "                  guides:number_of_nonzero_guides  guides:batch_number  \\\n",
       "barcode                                                                  \n",
       "AAACCTGAGAGGGCTT                                1                    1   \n",
       "AAACCTGCAAATACAG                                2                    1   \n",
       "AAACCTGCACTCGACG                                2                    1   \n",
       "AAACCTGCAGTCTTCC                                3                    1   \n",
       "AAACCTGCATGCCTAA                                4                    1   \n",
       "\n",
       "                  scRNA:n_genes  scRNA:n_counts  scRNA:percent_mito  \\\n",
       "barcode                                                               \n",
       "AAACCTGAGAGGGCTT            248           325.0            0.000000   \n",
       "AAACCTGCAAATACAG           3504          8941.0            0.022816   \n",
       "AAACCTGCACTCGACG           2403          7169.0            0.051611   \n",
       "AAACCTGCAGTCTTCC           2791          8174.0            0.053218   \n",
       "AAACCTGCATGCCTAA           5072         23770.0            0.045982   \n",
       "\n",
       "                  scRNA:doublet_scores  scRNA:predicted_doublets  \\\n",
       "barcode                                                            \n",
       "AAACCTGAGAGGGCTT              0.022133                     False   \n",
       "AAACCTGCAAATACAG              0.116685                     False   \n",
       "AAACCTGCACTCGACG              0.070968                     False   \n",
       "AAACCTGCAGTCTTCC              0.064220                     False   \n",
       "AAACCTGCATGCCTAA              0.142857                     False   \n",
       "\n",
       "                 scRNA:doublet_info  scRNA:batch_number  \n",
       "barcode                                                  \n",
       "AAACCTGAGAGGGCTT              False                   1  \n",
       "AAACCTGCAAATACAG              False                   1  \n",
       "AAACCTGCACTCGACG              False                   1  \n",
       "AAACCTGCAGTCTTCC              False                   1  \n",
       "AAACCTGCATGCCTAA              False                   1  "
      ]
     },
     "execution_count": 30,
     "metadata": {},
     "output_type": "execute_result"
    }
   ],
   "source": [
    "mdata.obs.head()   #showing covariates"
   ]
  },
  {
   "cell_type": "code",
   "execution_count": 28,
   "id": "DOw-LAQpkLBJ",
   "metadata": {
    "collapsed": true,
    "id": "DOw-LAQpkLBJ",
    "jupyter": {
     "outputs_hidden": true
    },
    "tags": []
   },
   "outputs": [
    {
     "data": {
      "text/plain": [
       "BROX        2\n",
       "OARD1       2\n",
       "PCBD1       2\n",
       "PLEKHJ1     2\n",
       "PPID        2\n",
       "PPP1R11     2\n",
       "PSMG2       2\n",
       "RBM17       2\n",
       "RNF181      2\n",
       "RPS3        2\n",
       "RWDD1       2\n",
       "SDHC        2\n",
       "SEPT11      2\n",
       "SLC25A4     2\n",
       "SMARCC1     2\n",
       "SPCS2       2\n",
       "SRRM1       2\n",
       "ST13        2\n",
       "TMEM167A    2\n",
       "TMEM242     2\n",
       "TSPO        2\n",
       "UAP1        2\n",
       "UBE2T       2\n",
       "ODC1        2\n",
       "NEK2        2\n",
       "CCND2       2\n",
       "NDUFB7      2\n",
       "CEBPB       2\n",
       "CHRAC1      2\n",
       "CITED2      2\n",
       "COMT        2\n",
       "DECR1       2\n",
       "EBPL        2\n",
       "EIF4EBP1    2\n",
       "FAM83A      2\n",
       "FECH        2\n",
       "GATA2       2\n",
       "GYPC        2\n",
       "HBD         2\n",
       "HNRNPA1     2\n",
       "ITGB1BP1    2\n",
       "JAGN1       2\n",
       "LAMTOR1     2\n",
       "LMO2        2\n",
       "LRIF1       2\n",
       "MAN1A1      2\n",
       "MRPS35      2\n",
       "MRPS36      2\n",
       "VDAC1       2\n",
       "Name: guides:target_elements, dtype: int64"
      ]
     },
     "execution_count": 28,
     "metadata": {},
     "output_type": "execute_result"
    }
   ],
   "source": [
    "mdata.var[\"guides:target_elements\"].value_counts()"
   ]
  },
  {
   "cell_type": "code",
   "execution_count": null,
   "id": "unVXA7jgkMAb",
   "metadata": {
    "id": "unVXA7jgkMAb"
   },
   "outputs": [],
   "source": []
  },
  {
   "cell_type": "code",
   "execution_count": null,
   "id": "m6pitQsgkOKQ",
   "metadata": {
    "id": "m6pitQsgkOKQ"
   },
   "outputs": [],
   "source": [
    "# subsetting\n",
    "mdata[:,mdata.var[\"guides:target_elements\"] == \"BROX\"]"
   ]
  },
  {
   "cell_type": "code",
   "execution_count": null,
   "id": "8fbQwp7VkQmY",
   "metadata": {
    "id": "8fbQwp7VkQmY"
   },
   "outputs": [],
   "source": [
    "# encode gene-guide relationships\n"
   ]
  },
  {
   "cell_type": "markdown",
   "id": "7a87c1b9-21a7-4a51-98e8-fa7f7ff0341d",
   "metadata": {},
   "source": [
    "# Install your Enviroment"
   ]
  },
  {
   "cell_type": "code",
   "execution_count": null,
   "id": "c46a6d97-d3ba-4404-bc36-cdf8a14736ca",
   "metadata": {
    "tags": []
   },
   "outputs": [],
   "source": [
    "%%writefile hon_guide.yaml\n",
    "name: hon_scanpy\n",
    "channels:\n",
    "  - conda-forge\n",
    "  - defaults\n",
    "dependencies:\n",
    "  - _libgcc_mutex=0.1=main\n",
    "  - _openmp_mutex=5.1=1_gnu\n",
    "  - backcall=0.2.0=pyhd3eb1b0_0\n",
    "  - blas=1.0=mkl\n",
    "  - blosc=1.21.0=h4ff587b_1\n",
    "  - bottleneck=1.3.4=py37hce1f21e_0\n",
    "  - brotli=1.0.9=he6710b0_2\n",
    "  - bzip2=1.0.8=h7b6447c_0\n",
    "  - ca-certificates=2022.12.7=ha878542_0\n",
    "  - cairo=1.16.0=hcf35c78_1003\n",
    "  - certifi=2022.12.7=pyhd8ed1ab_0\n",
    "  - cycler=0.11.0=pyhd3eb1b0_0\n",
    "  - debugpy=1.5.1=py37h295c915_0\n",
    "  - decorator=5.1.1=pyhd3eb1b0_0\n",
    "  - entrypoints=0.4=py37h06a4308_0\n",
    "  - fontconfig=2.13.1=h86ecdb6_1001\n",
    "  - fonttools=4.25.0=pyhd3eb1b0_0\n",
    "  - freetype=2.11.0=h70c0345_0\n",
    "  - giflib=5.2.1=h7b6447c_0\n",
    "  - glib=2.68.2=h36276a3_0\n",
    "  - gmp=6.2.1=h58526e2_0\n",
    "  - hdf5=1.10.4=hb1b8bf9_0\n",
    "  - icu=64.2=he1b5a44_1\n",
    "  - intel-openmp=2021.4.0=h06a4308_3561\n",
    "  - ipykernel=6.15.2=py37h06a4308_0\n",
    "  - ipython=7.31.1=py37h06a4308_1\n",
    "  - jedi=0.18.1=py37h06a4308_1\n",
    "  - joblib=1.1.1=py37h06a4308_0\n",
    "  - jpeg=9e=h7f8727e_0\n",
    "  - jupyter_client=7.2.2=py37h06a4308_0\n",
    "  - jupyter_core=4.11.2=py37h06a4308_0\n",
    "  - kiwisolver=1.4.2=py37h295c915_0\n",
    "  - lcms2=2.12=h3be6417_0\n",
    "  - ld_impl_linux-64=2.38=h1181459_1\n",
    "  - leidenalg=0.8.2=py37h43df1e8_0\n",
    "  - libffi=3.3=he6710b0_2\n",
    "  - libgcc-ng=9.1.0=hdf63c60_0\n",
    "  - libgfortran-ng=7.3.0=hdf63c60_0\n",
    "  - libgomp=11.2.0=h1234567_1\n",
    "  - libiconv=1.16=h516909a_0\n",
    "  - libllvm10=10.0.1=hbcb73fb_5\n",
    "  - libpng=1.6.37=hbc83047_0\n",
    "  - libsodium=1.0.18=h7b6447c_0\n",
    "  - libstdcxx-ng=9.1.0=hdf63c60_0\n",
    "  - libtiff=4.2.0=h2818925_1\n",
    "  - libuuid=2.32.1=h14c3975_1000\n",
    "  - libwebp=1.2.2=h55f646e_0\n",
    "  - libwebp-base=1.2.2=h7f8727e_0\n",
    "  - libxcb=1.13=h14c3975_1002\n",
    "  - libxml2=2.9.10=hee79883_0\n",
    "  - llvmlite=0.35.0=py37h612dafd_4\n",
    "  - lz4-c=1.9.3=h295c915_1\n",
    "  - lzo=2.10=h7b6447c_2\n",
    "  - matplotlib-base=3.5.1=py37ha18d171_1\n",
    "  - matplotlib-inline=0.1.6=py37h06a4308_0\n",
    "  - mkl=2021.4.0=h06a4308_640\n",
    "  - mkl-service=2.4.0=py37h7f8727e_0\n",
    "  - mkl_fft=1.3.1=py37hd3c417c_0\n",
    "  - mkl_random=1.2.2=py37h51133e4_0\n",
    "  - mock=4.0.3=pyhd3eb1b0_0\n",
    "  - munkres=1.1.4=py_0\n",
    "  - ncurses=6.3=h7f8727e_2\n",
    "  - nest-asyncio=1.5.6=py37h06a4308_0\n",
    "  - numba=0.52.0=py37ha9443f7_0\n",
    "  - numexpr=2.8.1=py37h6abb31d_0\n",
    "  - numpy=1.21.5=py37he7a7128_2\n",
    "  - numpy-base=1.21.5=py37hf524024_2\n",
    "  - openssl=1.1.1t=h7f8727e_0\n",
    "  - packaging=22.0=py37h06a4308_0\n",
    "  - pandas=1.3.5=py37h8c16a72_0\n",
    "  - parso=0.8.3=pyhd3eb1b0_0\n",
    "  - patsy=0.5.3=py37h06a4308_0\n",
    "  - pcre=8.44=he1b5a44_0\n",
    "  - pexpect=4.8.0=pyhd3eb1b0_3\n",
    "  - pickleshare=0.7.5=pyhd3eb1b0_1003\n",
    "  - pillow=9.0.1=py37h22f2fdc_0\n",
    "  - pip=22.3.1=py37h06a4308_0\n",
    "  - pixman=0.38.0=h516909a_1003\n",
    "  - prompt-toolkit=3.0.36=py37h06a4308_0\n",
    "  - psutil=5.8.0=py37h27cfd23_1\n",
    "  - pthread-stubs=0.4=h36c2ea0_1001\n",
    "  - ptyprocess=0.7.0=pyhd3eb1b0_2\n",
    "  - pycairo=1.20.0=py37h01af8b0_1\n",
    "  - pygments=2.11.2=pyhd3eb1b0_0\n",
    "  - pyparsing=3.0.9=py37h06a4308_0\n",
    "  - pytables=3.6.1=py37h71ec239_0\n",
    "  - python=3.7.13=h12debd9_0\n",
    "  - python-dateutil=2.8.2=pyhd3eb1b0_0\n",
    "  - python-igraph=0.8.2=py37hb78272c_0\n",
    "  - python_abi=3.7=2_cp37m\n",
    "  - pytz=2022.7=py37h06a4308_0\n",
    "  - pyzmq=22.3.0=py37h295c915_2\n",
    "  - readline=8.1.2=h7f8727e_1\n",
    "  - scikit-learn=1.0.2=py37h51133e4_1\n",
    "  - scipy=1.6.2=py37had2a1c9_1\n",
    "  - seaborn=0.12.2=py37h06a4308_0\n",
    "  - setuptools=65.6.3=py37h06a4308_0\n",
    "  - six=1.16.0=pyhd3eb1b0_1\n",
    "  - sqlite=3.38.5=hc218d9a_0\n",
    "  - statsmodels=0.13.2=py37h7f8727e_0\n",
    "  - texttable=1.6.7=pyhd8ed1ab_0\n",
    "  - threadpoolctl=2.2.0=pyh0d69192_0\n",
    "  - tk=8.6.12=h1ccaba5_0\n",
    "  - tornado=6.1=py37h27cfd23_0\n",
    "  - traitlets=5.7.1=py37h06a4308_0\n",
    "  - typing_extensions=4.3.0=py37h06a4308_0\n",
    "  - wcwidth=0.2.5=pyhd3eb1b0_0\n",
    "  - wheel=0.38.4=py37h06a4308_0\n",
    "  - xorg-kbproto=1.0.7=h14c3975_1002\n",
    "  - xorg-libice=1.0.10=h516909a_0\n",
    "  - xorg-libsm=1.2.3=h84519dc_1000\n",
    "  - xorg-libx11=1.6.12=h36c2ea0_0\n",
    "  - xorg-libxau=1.0.9=h14c3975_0\n",
    "  - xorg-libxdmcp=1.1.3=h516909a_0\n",
    "  - xorg-libxext=1.3.4=h516909a_0\n",
    "  - xorg-libxrender=0.9.10=h516909a_1002\n",
    "  - xorg-renderproto=0.11.1=h14c3975_1002\n",
    "  - xorg-xextproto=7.3.0=h14c3975_1002\n",
    "  - xorg-xproto=7.0.31=h14c3975_1007\n",
    "  - xz=5.2.5=h7f8727e_1\n",
    "  - zeromq=4.3.4=h2531618_0\n",
    "  - zlib=1.2.12=h7f8727e_2\n",
    "  - zstd=1.5.2=ha4553b6_0\n",
    "  - pip:\n",
    "    - mudata\n",
    "    - anndata==0.8.0\n",
    "    - cython==0.29.33\n",
    "    - deprecated==1.2.13\n",
    "    - dnaio==0.10.0\n",
    "    - dunamai==1.16.0\n",
    "    - fba==0.0.13\n",
    "    - future==0.18.3\n",
    "    - get-version==3.5.4\n",
    "    - graphtools==1.5.3\n",
    "    - h5py==3.8.0\n",
    "    - hdbscan==0.8.29\n",
    "    - igraph==0.10.4\n",
    "    - importlib-metadata==6.1.0\n",
    "    - isal==1.1.0\n",
    "    - legacy-api-wrap==1.2\n",
    "    - louvain==0.8.0\n",
    "    - natsort==7.0.0\n",
    "    - networkx==2.6.3\n",
    "    - parsedatetime==2.6\n",
    "    - phate==1.0.10\n",
    "    - polyleven==0.8\n",
    "    - pybktree==1.1\n",
    "    - pyclustering==0.10.1.2\n",
    "    - pygsp==0.5.1\n",
    "    - pysam==0.20.0\n",
    "    - regex==2022.10.31\n",
    "    - s-gd2==1.8.1\n",
    "    - scanpy==1.7.0rc1\n",
    "    - scprep==1.2.2\n",
    "    - sinfo==0.3.4\n",
    "    - stdlib-list==0.8.0\n",
    "    - tasklogger==1.2.0\n",
    "    - tqdm==4.65.0\n",
    "    - umap-learn==0.4.6\n",
    "    - umi-tools==1.1.4\n",
    "    - wrapt==1.15.0\n",
    "    - xopen==1.7.0\n",
    "    - zipp==3.15.0"
   ]
  },
  {
   "cell_type": "code",
   "execution_count": null,
   "id": "986c6234-b6d4-42aa-9c45-c5eaa3d55cf1",
   "metadata": {},
   "outputs": [],
   "source": [
    "!mamba env create -f hon_guide.yaml --force"
   ]
  },
  {
   "cell_type": "code",
   "execution_count": 5,
   "id": "f18d9670-0893-49ed-9036-77dbc1a5340d",
   "metadata": {
    "tags": []
   },
   "outputs": [
    {
     "name": "stdout",
     "output_type": "stream",
     "text": [
      "# conda environments:\n",
      "#\n",
      "hon_scanpy               /home/jovyan/.conda/envs/hon_scanpy\n",
      "base                     /opt/conda\n",
      "pygenomictracks          /opt/conda/envs/pygenomictracks\n",
      "\n"
     ]
    }
   ],
   "source": [
    "!conda env list"
   ]
  },
  {
   "cell_type": "code",
   "execution_count": null,
   "id": "65cc6f84-d371-43e6-8a52-5a814523ef4e",
   "metadata": {},
   "outputs": [],
   "source": [
    "#Use this env  \"/home/jovyan/.conda/envs/hon_scanpy\""
   ]
  }
 ],
 "metadata": {
  "colab": {
   "provenance": []
  },
  "kernelspec": {
   "display_name": "Python 3 (ipykernel)",
   "language": "python",
   "name": "python3"
  },
  "language_info": {
   "codemirror_mode": {
    "name": "ipython",
    "version": 3
   },
   "file_extension": ".py",
   "mimetype": "text/x-python",
   "name": "python",
   "nbconvert_exporter": "python",
   "pygments_lexer": "ipython3",
   "version": "3.10.10"
  }
 },
 "nbformat": 4,
 "nbformat_minor": 5
}
