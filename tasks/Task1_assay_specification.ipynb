{
  "cells": [
    {
      "cell_type": "markdown",
      "id": "685224ad-5e35-40a3-97c5-7e4384866b3e",
      "metadata": {
        "tags": [],
        "id": "685224ad-5e35-40a3-97c5-7e4384866b3e"
      },
      "source": [
        "# Task 1"
      ]
    },
    {
      "cell_type": "markdown",
      "id": "ea34012b-ff91-4289-8629-7bca44fc65b9",
      "metadata": {
        "id": "ea34012b-ff91-4289-8629-7bca44fc65b9"
      },
      "source": [
        "### Defining specifications for quantification of gene expression and guide count for different CRISPR+scRNA-seq protocols"
      ]
    },
    {
      "cell_type": "markdown",
      "id": "b3979eb2-9273-4c35-a020-fa3783b19dea",
      "metadata": {
        "tags": [],
        "id": "b3979eb2-9273-4c35-a020-fa3783b19dea"
      },
      "source": [
        "\n",
        "### Relevance:\n",
        "Kallisto bustools already have information about some assays, but we should be able to capture information from seqspec (https://github.com/IGVF/seqspec/tree/main/assays) and provide the read format and whitelist from different (10XV2,10XV3,10X5’) assays and create a structure that can extend for new future assays.\n"
      ]
    },
    {
      "cell_type": "markdown",
      "id": "1438ff58-d0ac-4072-bb86-6161a532660d",
      "metadata": {
        "tags": [],
        "id": "1438ff58-d0ac-4072-bb86-6161a532660d"
      },
      "source": [
        "### Practical description: TODO\n",
        "- [X] Create a new process (ex: “preprocessing_assay”). It should run before the alignment step.\n",
        "- [ ] Create a new parameter in the perturb.config to receive the flag “params.ASSAY_SPECS”\n",
        "- [ ] Create a table with the most common reads formats (10XV2, 10XV3, 5'PE... parse it from seqspec)  \n",
        "- [ ] Create a custom script that can receive a “params.ASSAY_SPECS” ex: “10XV2”  and return the read parsing instructions (string format- see Kallisto bustools) and whitelist link (the script should download it)\n",
        "- [ ] Make sure this module  will work only if params.ASSAY_SPECS is NOT 'custom' , otherwise it will try to capture informations from  (param.CHEMISTRY) and whitelist (params.WHITELIST) . If the  params.ASSAY_SPECS don't exist it interrupt the pipeline\n",
        "\n",
        "obs: Setting assay is an artificial process (in the real script we need to modify the mappingscRNA  and mappingGuide   process)\n"
      ]
    },
    {
      "cell_type": "markdown",
      "id": "6a0ace8e-8c84-424d-bcf3-694b6d2980a3",
      "metadata": {
        "tags": [],
        "id": "6a0ace8e-8c84-424d-bcf3-694b6d2980a3"
      },
      "source": [
        "### Kallisto read specification\n",
        "\n",
        "\"Additionally kallisto bus will accept a string specifying a new technology in the format of bc:umi:seq where each of bc,umi and seq are a triplet of integers separated by a comma, denoting the file index, start and stop of the sequence used. For example to specify the 10xV2 technology we would use 0,0,16:0,16,26:1,0,0. The first part bc is 0,0,16 indicating it is in the 0-th file (also known as the first file in plain english), the barcode starts at the 0-th bp and ends at the 16-th bp in the sequence (i.e. 16bp barcode), the UMI is similarly in the same file, right after the barcode in position 16-26 (a 10bp UMI), finally the sequence is in a separate file, starts at 0 and ends at 0 (in this case stopping at 0 means there is no limit, we use the entire sequence).\"\n",
        "https://pachterlab.github.io/kallisto/manual"
      ]
    },
    {
      "cell_type": "markdown",
      "source": [
        "---\n",
        "## This Jupyter notebook has 2 scripts:  \n",
        "\n",
        "*    jamboree_test.nf **  (instruction to execute the pipeline and defining process)  \n",
        "\n",
        "*   check_aspects.py  (python script) \n",
        "\n",
        "\n",
        " \n",
        "\n",
        "Execute the last cell \"!nextflow run .... \" to debug"
      ],
      "metadata": {
        "id": "jeC8RQ1oxZMN"
      },
      "id": "jeC8RQ1oxZMN"
    },
    {
      "cell_type": "code",
      "execution_count": null,
      "id": "d34ac033-4360-4185-be1e-a7918c0dfe22",
      "metadata": {
        "tags": [],
        "colab": {
          "base_uri": "https://localhost:8080/"
        },
        "id": "d34ac033-4360-4185-be1e-a7918c0dfe22",
        "outputId": "2a81cf04-e2a9-46a0-e56c-2f5606bed6c0"
      },
      "outputs": [
        {
          "output_type": "stream",
          "name": "stdout",
          "text": [
            "Writing jamboree_test.nf\n"
          ]
        }
      ],
      "source": [
        "%%writefile jamboree_test.nf\n",
        "\n",
        "nextflow.enable.dsl=2\n",
        "\n",
        "//or custom\n",
        "params.ASSAY_SPECS = 'other'\n",
        "//case custom this parameter will be used in the run\n",
        "params.CHEMISTRY = '10XV2'\n",
        "params.WHITELIST= '/home/jovyan/737K-august-2016.txt'\n",
        "\n",
        "\n",
        "process preprocessing_assay{\n",
        "    debug true\n",
        "    input:\n",
        "    val assay_specs\n",
        "    output: \n",
        "    stdout\n",
        "    script:\n",
        "    \"\"\"\n",
        "    #script should return a csv\n",
        "    #echo teste1,teste2\n",
        "    chmod 700 /n/data1/bch/hemonc/bauer/lucassilva/gasperini_jamboree/check_assay_spects.py\n",
        "    /n/data1/bch/hemonc/bauer/lucassilva/gasperini_jamboree/check_assay_spects.py assay_specs\n",
        "    \"\"\"\n",
        "    \n",
        "}\n",
        "\n",
        "\n",
        "\n",
        "process setting_assay {\n",
        "    debug true\n",
        "    input:\n",
        "    val (assay_value)\n",
        "    val (chemistry)\n",
        "    val (whitelist)\n",
        "    val (new_params)\n",
        "    script: \n",
        "    \n",
        "\n",
        "    if(assay_value != 'custom')\n",
        "    \n",
        "\n",
        "    \"\"\"\n",
        "     echo 'using the assay_specs'\n",
        "     echo kallisto using ${new_params[0]} and ${new_params[1]}\n",
        "\n",
        "    \"\"\"\n",
        "    \n",
        "    else\n",
        "        \n",
        "    \"\"\"\n",
        "     echo 'using custom chemistry and whitelist'\n",
        "     echo kallisto using ${chemistry} and ${whitelist}\n",
        "\n",
        "\n",
        "    \"\"\"\n",
        "\n",
        "}\n",
        "\n",
        "\n",
        "\n",
        "workflow {\n",
        "\n",
        "    out_process = preprocessing_assay(params.ASSAY_SPECS)\n",
        "    new_values = out_process.view().splitCsv()\n",
        "    setting_assay(params.ASSAY_SPECS, params.CHEMISTRY ,params.WHITELIST, new_values)\n",
        "    params.WHITELIST\n",
        "    \n",
        "    \n",
        " \n",
        "}"
      ]
    },
    {
      "cell_type": "code",
      "execution_count": null,
      "id": "5a326603-00d2-4ae3-a8cc-eda306294092",
      "metadata": {
        "tags": [],
        "colab": {
          "base_uri": "https://localhost:8080/"
        },
        "id": "5a326603-00d2-4ae3-a8cc-eda306294092",
        "outputId": "910e5e10-1bc8-4b33-ea2c-888e8fb352fb"
      },
      "outputs": [
        {
          "output_type": "stream",
          "name": "stdout",
          "text": [
            "Writing check_assay_spects.py\n"
          ]
        }
      ],
      "source": [
        "%%writefile check_assay_spects.py\n",
        "#!/usr/bin/env python\n",
        "import sys\n",
        "\n",
        "assay_name = sys.argv[1]\n",
        "if assay_name == 'custom':\n",
        "    #case custom setting the return will not be used, but lets pring something to make easy the debug\n",
        "    \n",
        "    print ('custom,custom')\n",
        "    exit()\n",
        "\n",
        "#don't print anything inside this script\n",
        "#check the assay_name\n",
        "#download the specific whitelist\n",
        "#format the chemistry given the assay_name (seqspec should help us) ex: \"0,0,16:0,16,28:1,0,0\" \n",
        "\n",
        "\n",
        "\n",
        "chemistry = 'python_chem' # return here the chemistry (check the kallisto format in the task description)\n",
        "\n",
        "whitelist = 'python_white'  # return here the whitelist (first download it)\n",
        "\n",
        "\n",
        "print (chemistry + ',' + whitelist )"
      ]
    },
    {
      "cell_type": "code",
      "execution_count": null,
      "id": "0081d13f-b6c4-437c-b2bf-0109bb225ae9",
      "metadata": {
        "tags": [],
        "colab": {
          "base_uri": "https://localhost:8080/"
        },
        "id": "0081d13f-b6c4-437c-b2bf-0109bb225ae9",
        "outputId": "3d38c3b7-2310-485a-d659-63fe986befaa"
      },
      "outputs": [
        {
          "output_type": "stream",
          "name": "stdout",
          "text": [
            "/bin/bash: nextflow: command not found\n"
          ]
        }
      ],
      "source": [
        "!nextflow run jamboree_test.nf -w jamboree_test_task01"
      ]
    },
    {
      "cell_type": "code",
      "execution_count": null,
      "id": "8aab423f-2412-4c49-ac58-3ab9ffe5e042",
      "metadata": {
        "id": "8aab423f-2412-4c49-ac58-3ab9ffe5e042"
      },
      "outputs": [],
      "source": []
    }
  ],
  "metadata": {
    "kernelspec": {
      "display_name": "Python 3 (ipykernel)",
      "language": "python",
      "name": "python3"
    },
    "language_info": {
      "codemirror_mode": {
        "name": "ipython",
        "version": 3
      },
      "file_extension": ".py",
      "mimetype": "text/x-python",
      "name": "python",
      "nbconvert_exporter": "python",
      "pygments_lexer": "ipython3",
      "version": "3.8.15"
    },
    "colab": {
      "provenance": []
    }
  },
  "nbformat": 4,
  "nbformat_minor": 5
}